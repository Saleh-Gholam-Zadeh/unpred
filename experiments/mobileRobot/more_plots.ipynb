{
 "cells": [
  {
   "cell_type": "code",
   "execution_count": null,
   "metadata": {
    "collapsed": true
   },
   "outputs": [],
   "source": []
  },
  {
   "cell_type": "code",
   "execution_count": 1,
   "outputs": [],
   "source": [
    "import sys\n",
    "\n",
    "import matplotlib.pyplot as plt\n",
    "\n",
    "sys.path.append('.')\n",
    "from omegaconf import DictConfig, OmegaConf\n",
    "import hydra\n",
    "import os\n",
    "#os.environ[\"CUDA_VISIBLE_DEVICES\"] = \"0,1,2,3\"  #import it before torch!  https://discuss.pytorch.org/t/cuda-visible-device-is-of-no-use/10018/11\n",
    "\n",
    "\n",
    "import numpy as np\n",
    "import torch\n",
    "import wandb\n",
    "import pickle\n",
    "\n",
    "import random\n"
   ],
   "metadata": {
    "collapsed": false
   }
  },
  {
   "cell_type": "code",
   "execution_count": 2,
   "outputs": [],
   "source": [
    "with open('../../selected_result_dict.pickle', 'rb') as file1:\n",
    "    selected_res = pickle.load(file1)"
   ],
   "metadata": {
    "collapsed": false
   }
  },
  {
   "cell_type": "code",
   "execution_count": 3,
   "outputs": [
    {
     "data": {
      "text/plain": "dict_keys(['flow_0', 'flow_2', 'flow_3', 'flow_12', 'flow_17', 'flow_19', 'flow_20', 'flow_22', 'flow_28', 'flow_33', 'flow_37', 'flow_43', 'flow_48', 'flow_51', 'flow_54', 'flow_55', 'flow_62', 'flow_66', 'flow_67', 'flow_92', 'flow_100', 'flow_101', 'flow_103', 'flow_118', 'flow_122', 'flow_123', 'flow_124', 'flow_143', 'flow_158', 'flow_164', 'flow_167', 'flow_177', 'flow_178', 'flow_187', 'flow_196', 'flow_197', 'flow_198', 'flow_209', 'flow_216', 'flow_220', 'flow_221', 'flow_223', 'flow_224', 'flow_232', 'flow_237', 'flow_240', 'flow_243', 'flow_249', 'flow_255', 'flow_259', 'flow_263', 'flow_275', 'flow_280', 'flow_285', 'flow_295', 'flow_296', 'flow_299', 'flow_302', 'flow_318', 'flow_321', 'flow_325', 'flow_327', 'flow_332', 'flow_336', 'flow_338', 'flow_343', 'flow_346', 'flow_350', 'flow_353', 'flow_359', 'flow_363', 'flow_367', 'flow_371', 'flow_380', 'flow_381', 'flow_390', 'flow_391', 'flow_406', 'flow_411', 'flow_412', 'flow_413', 'flow_417', 'flow_419', 'flow_420', 'flow_431', 'flow_434', 'flow_437', 'flow_441', 'flow_443', 'flow_449', 'flow_457', 'flow_463', 'flow_474', 'flow_477', 'flow_489', 'flow_493', 'flow_495', 'flow_497', 'flow_503', 'flow_510', 'flow_516', 'flow_520', 'flow_521', 'flow_525', 'flow_532', 'flow_536', 'flow_540', 'flow_541', 'flow_553', 'flow_554', 'flow_559', 'flow_563', 'flow_564', 'flow_567', 'flow_573', 'flow_574', 'flow_578', 'flow_587', 'flow_590', 'flow_597', 'flow_607', 'flow_615', 'flow_616', 'flow_622', 'flow_626', 'flow_641', 'flow_642', 'flow_648', 'flow_650', 'flow_653', 'flow_659', 'flow_666', 'flow_667', 'flow_671', 'flow_681', 'flow_686', 'flow_693', 'flow_710', 'flow_711', 'flow_713', 'flow_714', 'flow_721', 'flow_727', 'flow_731', 'flow_732', 'flow_733', 'flow_736', 'flow_743', 'flow_755', 'flow_760', 'flow_765', 'flow_766', 'flow_769', 'flow_771', 'flow_773', 'flow_778', 'flow_780', 'flow_783', 'flow_787', 'flow_800', 'flow_809', 'flow_811', 'flow_819', 'flow_825', 'flow_826', 'flow_827', 'flow_832', 'flow_838', 'flow_846', 'flow_847', 'flow_851', 'flow_852', 'flow_858', 'flow_859', 'flow_864', 'flow_868', 'flow_869', 'flow_872', 'flow_880', 'flow_885', 'flow_900', 'flow_902', 'flow_903', 'flow_906', 'flow_909', 'flow_912', 'flow_914', 'flow_915', 'flow_919', 'flow_920', 'flow_924', 'flow_933', 'flow_934', 'flow_935', 'flow_944', 'flow_946', 'flow_947', 'flow_950', 'flow_952', 'flow_960', 'flow_966', 'flow_967', 'flow_972', 'flow_973', 'flow_974', 'flow_977', 'flow_982', 'flow_994', 'flow_1005', 'flow_1007', 'flow_1009', 'flow_1012', 'flow_1019', 'flow_1023', 'flow_1027', 'flow_1035', 'flow_1046', 'flow_1048', 'flow_1051', 'flow_1053', 'flow_1056', 'flow_1063', 'flow_1066', 'flow_1071', 'flow_1076', 'flow_1078', 'flow_1085', 'flow_1088', 'flow_1096', 'flow_1099', 'flow_1101', 'flow_1103', 'flow_1105', 'flow_1110', 'flow_1114', 'flow_1117', 'flow_1124', 'flow_1128', 'flow_1134', 'flow_1137'])"
     },
     "execution_count": 3,
     "metadata": {},
     "output_type": "execute_result"
    }
   ],
   "source": [
    "selected_res.keys()"
   ],
   "metadata": {
    "collapsed": false
   }
  },
  {
   "cell_type": "code",
   "execution_count": 38,
   "outputs": [
    {
     "data": {
      "text/plain": "'flow_622'"
     },
     "execution_count": 38,
     "metadata": {},
     "output_type": "execute_result"
    }
   ],
   "source": [
    "list(selected_res.keys())[123]\n"
   ],
   "metadata": {
    "collapsed": false
   }
  },
  {
   "cell_type": "code",
   "execution_count": 4,
   "outputs": [
    {
     "data": {
      "text/plain": "dict_keys(['flowise_normalized_test', 'flowise_normalized_train', 'dep_train', 'dep_test', 'dep_intersect'])"
     },
     "execution_count": 4,
     "metadata": {},
     "output_type": "execute_result"
    }
   ],
   "source": [
    "selected_res['flow_0'].keys()"
   ],
   "metadata": {
    "collapsed": false
   }
  },
  {
   "cell_type": "code",
   "execution_count": 31,
   "outputs": [
    {
     "data": {
      "text/plain": "0"
     },
     "execution_count": 31,
     "metadata": {},
     "output_type": "execute_result"
    }
   ],
   "source": [
    "len(selected_res['flow_573']['dep_intersect'])"
   ],
   "metadata": {
    "collapsed": false
   }
  },
  {
   "cell_type": "code",
   "execution_count": 25,
   "outputs": [
    {
     "name": "stdout",
     "output_type": "stream",
     "text": [
      "flow_12 --->dep-test: 7    dep-interect: 6   dep-train: 6\n",
      "flow_66 --->dep-test: 6    dep-interect: 5   dep-train: 5\n",
      "flow_67 --->dep-test: 9    dep-interect: 5   dep-train: 5\n",
      "flow_263 --->dep-test: 49    dep-interect: 0   dep-train: 0\n",
      "flow_381 --->dep-test: 9    dep-interect: 1   dep-train: 1\n",
      "flow_489 --->dep-test: 44    dep-interect: 4   dep-train: 4\n",
      "flow_516 --->dep-test: 49    dep-interect: 1   dep-train: 1\n",
      "flow_540 --->dep-test: 22    dep-interect: 4   dep-train: 4\n",
      "flow_573 --->dep-test: 49    dep-interect: 0   dep-train: 0\n",
      "flow_650 --->dep-test: 10    dep-interect: 3   dep-train: 3\n",
      "flow_666 --->dep-test: 49    dep-interect: 2   dep-train: 2\n",
      "flow_681 --->dep-test: 1    dep-interect: 1   dep-train: 1\n",
      "flow_686 --->dep-test: 3    dep-interect: 2   dep-train: 2\n",
      "flow_733 --->dep-test: 49    dep-interect: 6   dep-train: 6\n",
      "flow_736 --->dep-test: 25    dep-interect: 8   dep-train: 8\n",
      "flow_1023 --->dep-test: 9    dep-interect: 6   dep-train: 6\n",
      "flow_1078 --->dep-test: 16    dep-interect: 8   dep-train: 8\n"
     ]
    }
   ],
   "source": [
    "for i,(key,inner_dict) in enumerate(selected_res.items()):\n",
    "    if(len(selected_res[key]['dep_intersect'])<10):\n",
    "       print(key,\"--->dep-test:\",len(selected_res[key]['dep_test']) , '   dep-interect:',len(selected_res[key]['dep_intersect']) ,'  dep-train:', len(selected_res[key]['dep_train']))"
   ],
   "metadata": {
    "collapsed": false
   }
  },
  {
   "cell_type": "code",
   "execution_count": null,
   "outputs": [],
   "source": [],
   "metadata": {
    "collapsed": false
   }
  },
  {
   "cell_type": "code",
   "execution_count": null,
   "outputs": [],
   "source": [],
   "metadata": {
    "collapsed": false
   }
  },
  {
   "cell_type": "code",
   "execution_count": 4,
   "outputs": [],
   "source": [
    "with open('../../packet_normalizer.pickle', 'rb') as file1:\n",
    "    loc_norm = pickle.load(file1)\n"
   ],
   "metadata": {
    "collapsed": false
   }
  },
  {
   "cell_type": "code",
   "execution_count": 3,
   "outputs": [
    {
     "data": {
      "text/plain": "'/Users/I562243/Documents/to_send_GD/code/kit/AWS/traffic_data/hist_aws/NS_transformer_tim_perflow/experiments/mobileRobot'"
     },
     "execution_count": 3,
     "metadata": {},
     "output_type": "execute_result"
    }
   ],
   "source": [
    "os.getcwd()"
   ],
   "metadata": {
    "collapsed": false
   }
  },
  {
   "cell_type": "code",
   "execution_count": 5,
   "outputs": [
    {
     "data": {
      "text/plain": "{'flow_206to210': [array([0.06477625]), array([0.34670634]), 1600000],\n 'flow_271to275': [array([0.02637562]), array([0.23072972]), 1600000],\n 'flow_11to15': [array([3.17694813]), array([4.63503277]), 1600000],\n 'flow_176to180': [array([0.08139687]), array([0.37280883]), 1600000],\n 'flow_341to345': [array([0.00632937]), array([0.13627844]), 1600000],\n 'flow_6to10': [array([4.42986125]), array([5.97882654]), 1600000],\n 'flow_291to295': [array([0.02676813]), array([0.25173715]), 1600000],\n 'flow_26to30': [array([1.98987125]), array([3.17061329]), 1600000],\n 'flow_126to130': [array([0.13791375]), array([0.61591075]), 1600000],\n 'flow_116to120': [array([0.17164]), array([0.66105765]), 1600000],\n 'flow_151to155': [array([0.11451625]), array([0.52342242]), 1600000],\n 'flow_21to25': [array([2.39728375]), array([3.66343597]), 1600000],\n 'flow_56to60': [array([0.72560875]), array([1.54971552]), 1600000],\n 'flow_221to225': [array([0.0571675]), array([0.35175187]), 1600000],\n 'flow_36to40': [array([1.65735375]), array([2.97963417]), 1600000],\n 'flow_386to390': [array([0.00824]), array([0.10754465]), 1600000],\n 'flow_1to5': [array([9.62153813]), array([12.85172945]), 1600000],\n 'flow_101to105': [array([0.2737525]), array([0.76089803]), 1600000],\n 'flow_311to315': [array([0.01662375]), array([0.17201715]), 1600000],\n 'flow_336to340': [array([0.01345125]), array([0.18251798]), 1600000],\n 'flow_366to370': [array([0.01322187]), array([0.16449029]), 1600000],\n 'flow_356to360': [array([0.009065]), array([0.12080594]), 1600000],\n 'flow_31to35': [array([1.6910375]), array([2.90364399]), 1600000],\n 'flow_146to150': [array([0.10910625]), array([0.48173989]), 1600000],\n 'flow_131to135': [array([0.15179313]), array([0.5609563]), 1600000],\n 'flow_76to80': [array([0.3989775]), array([1.14394032]), 1600000],\n 'flow_286to290': [array([0.03191187]), array([0.24644676]), 1600000],\n 'flow_16to20': [array([2.24366563]), array([3.41417599]), 1600000],\n 'flow_61to65': [array([0.59223125]), array([1.40225208]), 1600000],\n 'flow_46to50': [array([1.11550625]), array([2.40354157]), 1600000],\n 'flow_321to325': [array([0.0236225]), array([0.21711052]), 1600000],\n 'flow_256to260': [array([0.0428875]), array([0.30403439]), 1600000],\n 'flow_266to270': [array([0.020295]), array([0.24298017]), 1600000],\n 'flow_236to240': [array([0.04118313]), array([0.28604995]), 1600000],\n 'flow_71to75': [array([0.69180125]), array([1.47994503]), 1600000],\n 'flow_211to215': [array([0.05710875]), array([0.43032673]), 1600000],\n 'flow_51to55': [array([0.96738375]), array([2.1661925]), 1600000],\n 'flow_371to375': [array([0.012005]), array([0.16242192]), 1600000],\n 'flow_306to310': [array([0.00722125]), array([0.10633251]), 1600000],\n 'flow_161to165': [array([0.09061938]), array([0.44247317]), 1600000],\n 'flow_96to100': [array([0.28688812]), array([0.81627329]), 1600000],\n 'flow_181to185': [array([0.07816437]), array([0.45634932]), 1600000],\n 'flow_391to395': [array([0.00698875]), array([0.1016423]), 1600000],\n 'flow_41to45': [array([0.84498812]), array([1.68612891]), 1600000],\n 'flow_66to70': [array([0.74612813]), array([1.40059887]), 1600000],\n 'flow_241to245': [array([0.0341625]), array([0.24994834]), 1600000],\n 'flow_201to205': [array([0.06784437]), array([0.35894152]), 1600000],\n 'flow_196to200': [array([0.06718125]), array([0.37862637]), 1600000],\n 'flow_121to125': [array([0.1454775]), array([0.5694669]), 1600000],\n 'flow_331to335': [array([0.01847063]), array([0.18887022]), 1600000],\n 'flow_276to280': [array([0.02855312]), array([0.32738791]), 1600000],\n 'flow_191to195': [array([0.0736325]), array([0.41370522]), 1600000],\n 'flow_381to385': [array([0.00894312]), array([0.10749137]), 1600000],\n 'flow_226to230': [array([0.02188125]), array([0.24618329]), 1600000],\n 'flow_216to220': [array([0.05961687]), array([0.37034302]), 1600000],\n 'flow_251to255': [array([0.02771437]), array([0.25427109]), 1600000],\n 'flow_361to365': [array([0.01296687]), array([0.15500398]), 1600000],\n 'flow_106to110': [array([0.23292313]), array([0.6255667]), 1600000],\n 'flow_171to175': [array([0.07608062]), array([0.36850863]), 1600000],\n 'flow_351to355': [array([0.006905]), array([0.11562254]), 1600000],\n 'flow_316to320': [array([0.00632813]), array([0.0978485]), 1600000],\n 'flow_326to330': [array([0.02193812]), array([0.23221347]), 1600000],\n 'flow_281to285': [array([0.01563875]), array([0.16088949]), 1600000],\n 'flow_396to400': [array([0.00740875]), array([0.09909016]), 1600000],\n 'flow_141to145': [array([0.11656187]), array([0.54555037]), 1600000],\n 'flow_81to85': [array([0.40205937]), array([1.1151867]), 1600000],\n 'flow_376to380': [array([0.005655]), array([0.09948252]), 1600000],\n 'flow_91to95': [array([0.219325]), array([0.6946476]), 1600000],\n 'flow_261to265': [array([0.03090937]), array([0.24870713]), 1600000],\n 'flow_156to160': [array([0.10118312]), array([0.54246092]), 1600000],\n 'flow_166to170': [array([0.08124062]), array([0.40170958]), 1600000],\n 'flow_136to140': [array([0.07598438]), array([0.36181418]), 1600000],\n 'flow_111to115': [array([0.18564063]), array([0.62365209]), 1600000],\n 'flow_301to305': [array([0.02239813]), array([0.22784907]), 1600000],\n 'flow_246to250': [array([0.04196125]), array([0.27439115]), 1600000],\n 'flow_296to300': [array([0.02018438]), array([0.24449328]), 1600000],\n 'flow_231to235': [array([0.03807187]), array([0.29779592]), 1600000],\n 'flow_186to190': [array([0.0683]), array([0.38427381]), 1600000],\n 'flow_86to90': [array([0.42982938]), array([1.19831333]), 1600000]}"
     },
     "execution_count": 5,
     "metadata": {},
     "output_type": "execute_result"
    }
   ],
   "source": [
    "loc_norm"
   ],
   "metadata": {
    "collapsed": false
   }
  },
  {
   "cell_type": "code",
   "execution_count": null,
   "outputs": [],
   "source": [],
   "metadata": {
    "collapsed": false,
    "pycharm": {
     "is_executing": true
    }
   }
  },
  {
   "cell_type": "code",
   "execution_count": 4,
   "outputs": [],
   "source": [],
   "metadata": {
    "collapsed": false
   }
  }
 ],
 "metadata": {
  "kernelspec": {
   "name": "rohit",
   "language": "python",
   "display_name": "Rohit"
  },
  "language_info": {
   "codemirror_mode": {
    "name": "ipython",
    "version": 2
   },
   "file_extension": ".py",
   "mimetype": "text/x-python",
   "name": "python",
   "nbconvert_exporter": "python",
   "pygments_lexer": "ipython2",
   "version": "2.7.6"
  }
 },
 "nbformat": 4,
 "nbformat_minor": 0
}
