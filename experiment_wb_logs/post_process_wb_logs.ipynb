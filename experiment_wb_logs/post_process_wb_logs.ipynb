{
 "cells": [
  {
   "cell_type": "code",
   "execution_count": 8,
   "metadata": {
    "collapsed": true
   },
   "outputs": [],
   "source": [
    "\n",
    "import sys\n",
    "\n",
    "import matplotlib.pyplot as plt\n",
    "\n",
    "sys.path.append('.')\n",
    "\n",
    "import os\n",
    "import numpy as np\n",
    "import torch\n",
    "import pickle\n",
    "\n"
   ]
  },
  {
   "cell_type": "code",
   "execution_count": 12,
   "outputs": [],
   "source": [
    "# Initialize the dictionary to accumulate all data\n",
    "wb_logs_MLPL2_all_cpu = {}"
   ],
   "metadata": {
    "collapsed": false
   }
  },
  {
   "cell_type": "code",
   "execution_count": 13,
   "outputs": [
    {
     "name": "stdout",
     "output_type": "stream",
     "text": [
      "/Users/I562243/Documents/to_send_GD/code/kit/AWS/traffic_data/hist_aws/NS_transformer_tim_perflow_cpu/experiment_wb_logs/wb_logs_MLPL2/flow_1048.pickle\n",
      "/Users/I562243/Documents/to_send_GD/code/kit/AWS/traffic_data/hist_aws/NS_transformer_tim_perflow_cpu/experiment_wb_logs/wb_logs_MLPL2/flow_710.pickle\n",
      "/Users/I562243/Documents/to_send_GD/code/kit/AWS/traffic_data/hist_aws/NS_transformer_tim_perflow_cpu/experiment_wb_logs/wb_logs_MLPL2/flow_1035.pickle\n",
      "/Users/I562243/Documents/to_send_GD/code/kit/AWS/traffic_data/hist_aws/NS_transformer_tim_perflow_cpu/experiment_wb_logs/wb_logs_MLPL2/flow_1056.pickle\n",
      "/Users/I562243/Documents/to_send_GD/code/kit/AWS/traffic_data/hist_aws/NS_transformer_tim_perflow_cpu/experiment_wb_logs/wb_logs_MLPL2/flow_966.pickle\n",
      "/Users/I562243/Documents/to_send_GD/code/kit/AWS/traffic_data/hist_aws/NS_transformer_tim_perflow_cpu/experiment_wb_logs/wb_logs_MLPL2/flow_773.pickle\n",
      "/Users/I562243/Documents/to_send_GD/code/kit/AWS/traffic_data/hist_aws/NS_transformer_tim_perflow_cpu/experiment_wb_logs/wb_logs_MLPL2/flow_295.pickle\n",
      "/Users/I562243/Documents/to_send_GD/code/kit/AWS/traffic_data/hist_aws/NS_transformer_tim_perflow_cpu/experiment_wb_logs/wb_logs_MLPL2/flow_122.pickle\n",
      "/Users/I562243/Documents/to_send_GD/code/kit/AWS/traffic_data/hist_aws/NS_transformer_tim_perflow_cpu/experiment_wb_logs/wb_logs_MLPL2/flow_299.pickle\n",
      "/Users/I562243/Documents/to_send_GD/code/kit/AWS/traffic_data/hist_aws/NS_transformer_tim_perflow_cpu/experiment_wb_logs/wb_logs_MLPL2/flow_1027.pickle\n",
      "/Users/I562243/Documents/to_send_GD/code/kit/AWS/traffic_data/hist_aws/NS_transformer_tim_perflow_cpu/experiment_wb_logs/wb_logs_MLPL2/flow_809.pickle\n",
      "/Users/I562243/Documents/to_send_GD/code/kit/AWS/traffic_data/hist_aws/NS_transformer_tim_perflow_cpu/experiment_wb_logs/wb_logs_MLPL2/flow_909.pickle\n",
      "/Users/I562243/Documents/to_send_GD/code/kit/AWS/traffic_data/hist_aws/NS_transformer_tim_perflow_cpu/experiment_wb_logs/wb_logs_MLPL2/flow_974.pickle\n",
      "/Users/I562243/Documents/to_send_GD/code/kit/AWS/traffic_data/hist_aws/NS_transformer_tim_perflow_cpu/experiment_wb_logs/wb_logs_MLPL2/flow_22.pickle\n",
      "/Users/I562243/Documents/to_send_GD/code/kit/AWS/traffic_data/hist_aws/NS_transformer_tim_perflow_cpu/experiment_wb_logs/wb_logs_MLPL2/flow_118.pickle\n",
      "/Users/I562243/Documents/to_send_GD/code/kit/AWS/traffic_data/hist_aws/NS_transformer_tim_perflow_cpu/experiment_wb_logs/wb_logs_MLPL2/flow_933.pickle\n",
      "/Users/I562243/Documents/to_send_GD/code/kit/AWS/traffic_data/hist_aws/NS_transformer_tim_perflow_cpu/experiment_wb_logs/wb_logs_MLPL2/flow_177.pickle\n",
      "/Users/I562243/Documents/to_send_GD/code/kit/AWS/traffic_data/hist_aws/NS_transformer_tim_perflow_cpu/experiment_wb_logs/wb_logs_MLPL2/flow_626.pickle\n",
      "/Users/I562243/Documents/to_send_GD/code/kit/AWS/traffic_data/hist_aws/NS_transformer_tim_perflow_cpu/experiment_wb_logs/wb_logs_MLPL2/flow_1103.pickle\n",
      "/Users/I562243/Documents/to_send_GD/code/kit/AWS/traffic_data/hist_aws/NS_transformer_tim_perflow_cpu/experiment_wb_logs/wb_logs_MLPL2/flow_950.pickle\n",
      "/Users/I562243/Documents/to_send_GD/code/kit/AWS/traffic_data/hist_aws/NS_transformer_tim_perflow_cpu/experiment_wb_logs/wb_logs_MLPL2/flow_525.pickle\n",
      "/Users/I562243/Documents/to_send_GD/code/kit/AWS/traffic_data/hist_aws/NS_transformer_tim_perflow_cpu/experiment_wb_logs/wb_logs_MLPL2/flow_209.pickle\n",
      "/Users/I562243/Documents/to_send_GD/code/kit/AWS/traffic_data/hist_aws/NS_transformer_tim_perflow_cpu/experiment_wb_logs/wb_logs_MLPL2/flow_437.pickle\n",
      "/Users/I562243/Documents/to_send_GD/code/kit/AWS/traffic_data/hist_aws/NS_transformer_tim_perflow_cpu/experiment_wb_logs/wb_logs_MLPL2/flow_780.pickle\n",
      "/Users/I562243/Documents/to_send_GD/code/kit/AWS/traffic_data/hist_aws/NS_transformer_tim_perflow_cpu/experiment_wb_logs/wb_logs_MLPL2/flow_554.pickle\n",
      "/Users/I562243/Documents/to_send_GD/code/kit/AWS/traffic_data/hist_aws/NS_transformer_tim_perflow_cpu/experiment_wb_logs/wb_logs_MLPL2/flow_350.pickle\n",
      "/Users/I562243/Documents/to_send_GD/code/kit/AWS/traffic_data/hist_aws/NS_transformer_tim_perflow_cpu/experiment_wb_logs/wb_logs_MLPL2/flow_413.pickle\n",
      "/Users/I562243/Documents/to_send_GD/code/kit/AWS/traffic_data/hist_aws/NS_transformer_tim_perflow_cpu/experiment_wb_logs/wb_logs_MLPL2/flow_221.pickle\n",
      "/Users/I562243/Documents/to_send_GD/code/kit/AWS/traffic_data/hist_aws/NS_transformer_tim_perflow_cpu/experiment_wb_logs/wb_logs_MLPL2/flow_196.pickle\n",
      "/Users/I562243/Documents/to_send_GD/code/kit/AWS/traffic_data/hist_aws/NS_transformer_tim_perflow_cpu/experiment_wb_logs/wb_logs_MLPL2/flow_321.pickle\n",
      "/Users/I562243/Documents/to_send_GD/code/kit/AWS/traffic_data/hist_aws/NS_transformer_tim_perflow_cpu/experiment_wb_logs/wb_logs_MLPL2/flow_885.pickle\n",
      "/Users/I562243/Documents/to_send_GD/code/kit/AWS/traffic_data/hist_aws/NS_transformer_tim_perflow_cpu/experiment_wb_logs/wb_logs_MLPL2/flow_223.pickle\n",
      "/Users/I562243/Documents/to_send_GD/code/kit/AWS/traffic_data/hist_aws/NS_transformer_tim_perflow_cpu/experiment_wb_logs/wb_logs_MLPL2/flow_240.pickle\n",
      "/Users/I562243/Documents/to_send_GD/code/kit/AWS/traffic_data/hist_aws/NS_transformer_tim_perflow_cpu/experiment_wb_logs/wb_logs_MLPL2/flow_411.pickle\n",
      "/Users/I562243/Documents/to_send_GD/code/kit/AWS/traffic_data/hist_aws/NS_transformer_tim_perflow_cpu/experiment_wb_logs/wb_logs_MLPL2/flow_503.pickle\n",
      "/Users/I562243/Documents/to_send_GD/code/kit/AWS/traffic_data/hist_aws/NS_transformer_tim_perflow_cpu/experiment_wb_logs/wb_logs_MLPL2/flow_198.pickle\n",
      "/Users/I562243/Documents/to_send_GD/code/kit/AWS/traffic_data/hist_aws/NS_transformer_tim_perflow_cpu/experiment_wb_logs/wb_logs_MLPL2/flow_1046.pickle\n",
      "/Users/I562243/Documents/to_send_GD/code/kit/AWS/traffic_data/hist_aws/NS_transformer_tim_perflow_cpu/experiment_wb_logs/wb_logs_MLPL2/flow_285.pickle\n",
      "/Users/I562243/Documents/to_send_GD/code/kit/AWS/traffic_data/hist_aws/NS_transformer_tim_perflow_cpu/experiment_wb_logs/wb_logs_MLPL2/flow_915.pickle\n",
      "/Users/I562243/Documents/to_send_GD/code/kit/AWS/traffic_data/hist_aws/NS_transformer_tim_perflow_cpu/experiment_wb_logs/wb_logs_MLPL2/flow_868.pickle\n",
      "/Users/I562243/Documents/to_send_GD/code/kit/AWS/traffic_data/hist_aws/NS_transformer_tim_perflow_cpu/experiment_wb_logs/wb_logs_MLPL2/flow_919.pickle\n",
      "/Users/I562243/Documents/to_send_GD/code/kit/AWS/traffic_data/hist_aws/NS_transformer_tim_perflow_cpu/experiment_wb_logs/wb_logs_MLPL2/flow_819.pickle\n",
      "/Users/I562243/Documents/to_send_GD/code/kit/AWS/traffic_data/hist_aws/NS_transformer_tim_perflow_cpu/experiment_wb_logs/wb_logs_MLPL2/flow_771.pickle\n",
      "/Users/I562243/Documents/to_send_GD/code/kit/AWS/traffic_data/hist_aws/NS_transformer_tim_perflow_cpu/experiment_wb_logs/wb_logs_MLPL2/flow_671.pickle\n",
      "/Users/I562243/Documents/to_send_GD/code/kit/AWS/traffic_data/hist_aws/NS_transformer_tim_perflow_cpu/experiment_wb_logs/wb_logs_MLPL2/flow_67.pickle\n",
      "/Users/I562243/Documents/to_send_GD/code/kit/AWS/traffic_data/hist_aws/NS_transformer_tim_perflow_cpu/experiment_wb_logs/wb_logs_MLPL2/flow_864.pickle\n",
      "/Users/I562243/Documents/to_send_GD/code/kit/AWS/traffic_data/hist_aws/NS_transformer_tim_perflow_cpu/experiment_wb_logs/wb_logs_MLPL2/flow_143.pickle\n",
      "/Users/I562243/Documents/to_send_GD/code/kit/AWS/traffic_data/hist_aws/NS_transformer_tim_perflow_cpu/experiment_wb_logs/wb_logs_MLPL2/flow_1137.pickle\n",
      "/Users/I562243/Documents/to_send_GD/code/kit/AWS/traffic_data/hist_aws/NS_transformer_tim_perflow_cpu/experiment_wb_logs/wb_logs_MLPL2/flow_952.pickle\n",
      "/Users/I562243/Documents/to_send_GD/code/kit/AWS/traffic_data/hist_aws/NS_transformer_tim_perflow_cpu/experiment_wb_logs/wb_logs_MLPL2/flow_852.pickle\n",
      "/Users/I562243/Documents/to_send_GD/code/kit/AWS/traffic_data/hist_aws/NS_transformer_tim_perflow_cpu/experiment_wb_logs/wb_logs_MLPL2/flow_51.pickle\n",
      "/Users/I562243/Documents/to_send_GD/code/kit/AWS/traffic_data/hist_aws/NS_transformer_tim_perflow_cpu/experiment_wb_logs/wb_logs_MLPL2/flow_493.pickle\n",
      "/Users/I562243/Documents/to_send_GD/code/kit/AWS/traffic_data/hist_aws/NS_transformer_tim_perflow_cpu/experiment_wb_logs/wb_logs_MLPL2/flow_659.pickle\n",
      "/Users/I562243/Documents/to_send_GD/code/kit/AWS/traffic_data/hist_aws/NS_transformer_tim_perflow_cpu/experiment_wb_logs/wb_logs_MLPL2/flow_1101.pickle\n",
      "/Users/I562243/Documents/to_send_GD/code/kit/AWS/traffic_data/hist_aws/NS_transformer_tim_perflow_cpu/experiment_wb_logs/wb_logs_MLPL2/flow_43.pickle\n",
      "/Users/I562243/Documents/to_send_GD/code/kit/AWS/traffic_data/hist_aws/NS_transformer_tim_perflow_cpu/experiment_wb_logs/wb_logs_MLPL2/flow_755.pickle\n",
      "/Users/I562243/Documents/to_send_GD/code/kit/AWS/traffic_data/hist_aws/NS_transformer_tim_perflow_cpu/experiment_wb_logs/wb_logs_MLPL2/flow_20.pickle\n",
      "/Users/I562243/Documents/to_send_GD/code/kit/AWS/traffic_data/hist_aws/NS_transformer_tim_perflow_cpu/experiment_wb_logs/wb_logs_MLPL2/flow_167.pickle\n",
      "/Users/I562243/Documents/to_send_GD/code/kit/AWS/traffic_data/hist_aws/NS_transformer_tim_perflow_cpu/experiment_wb_logs/wb_logs_MLPL2/flow_736.pickle\n",
      "/Users/I562243/Documents/to_send_GD/code/kit/AWS/traffic_data/hist_aws/NS_transformer_tim_perflow_cpu/experiment_wb_logs/wb_logs_MLPL2/flow_564.pickle\n",
      "/Users/I562243/Documents/to_send_GD/code/kit/AWS/traffic_data/hist_aws/NS_transformer_tim_perflow_cpu/experiment_wb_logs/wb_logs_MLPL2/flow_419.pickle\n",
      "/Users/I562243/Documents/to_send_GD/code/kit/AWS/traffic_data/hist_aws/NS_transformer_tim_perflow_cpu/experiment_wb_logs/wb_logs_MLPL2/flow_1099.pickle\n",
      "/Users/I562243/Documents/to_send_GD/code/kit/AWS/traffic_data/hist_aws/NS_transformer_tim_perflow_cpu/experiment_wb_logs/wb_logs_MLPL2/flow_327.pickle\n",
      "/Users/I562243/Documents/to_send_GD/code/kit/AWS/traffic_data/hist_aws/NS_transformer_tim_perflow_cpu/experiment_wb_logs/wb_logs_MLPL2/flow_540.pickle\n",
      "/Users/I562243/Documents/to_send_GD/code/kit/AWS/traffic_data/hist_aws/NS_transformer_tim_perflow_cpu/experiment_wb_logs/wb_logs_MLPL2/flow_431.pickle\n",
      "/Users/I562243/Documents/to_send_GD/code/kit/AWS/traffic_data/hist_aws/NS_transformer_tim_perflow_cpu/experiment_wb_logs/wb_logs_MLPL2/flow_686.pickle\n",
      "/Users/I562243/Documents/to_send_GD/code/kit/AWS/traffic_data/hist_aws/NS_transformer_tim_perflow_cpu/experiment_wb_logs/wb_logs_MLPL2/flow_944.pickle\n",
      "/Users/I562243/Documents/to_send_GD/code/kit/AWS/traffic_data/hist_aws/NS_transformer_tim_perflow_cpu/experiment_wb_logs/wb_logs_MLPL2/flow_100.pickle\n",
      "/Users/I562243/Documents/to_send_GD/code/kit/AWS/traffic_data/hist_aws/NS_transformer_tim_perflow_cpu/experiment_wb_logs/wb_logs_MLPL2/flow_1009.pickle\n",
      "/Users/I562243/Documents/to_send_GD/code/kit/AWS/traffic_data/hist_aws/NS_transformer_tim_perflow_cpu/experiment_wb_logs/wb_logs_MLPL2/flow_1117.pickle\n",
      "/Users/I562243/Documents/to_send_GD/code/kit/AWS/traffic_data/hist_aws/NS_transformer_tim_perflow_cpu/experiment_wb_logs/wb_logs_MLPL2/flow_732.pickle\n",
      "/Users/I562243/Documents/to_send_GD/code/kit/AWS/traffic_data/hist_aws/NS_transformer_tim_perflow_cpu/experiment_wb_logs/wb_logs_MLPL2/flow_827.pickle\n",
      "/Users/I562243/Documents/to_send_GD/code/kit/AWS/traffic_data/hist_aws/NS_transformer_tim_perflow_cpu/experiment_wb_logs/wb_logs_MLPL2/flow_743.pickle\n",
      "/Users/I562243/Documents/to_send_GD/code/kit/AWS/traffic_data/hist_aws/NS_transformer_tim_perflow_cpu/experiment_wb_logs/wb_logs_MLPL2/flow_55.pickle\n",
      "/Users/I562243/Documents/to_send_GD/code/kit/AWS/traffic_data/hist_aws/NS_transformer_tim_perflow_cpu/experiment_wb_logs/wb_logs_MLPL2/flow_1066.pickle\n",
      "/Users/I562243/Documents/to_send_GD/code/kit/AWS/traffic_data/hist_aws/NS_transformer_tim_perflow_cpu/experiment_wb_logs/wb_logs_MLPL2/flow_489.pickle\n",
      "/Users/I562243/Documents/to_send_GD/code/kit/AWS/traffic_data/hist_aws/NS_transformer_tim_perflow_cpu/experiment_wb_logs/wb_logs_MLPL2/flow_28.pickle\n",
      "/Users/I562243/Documents/to_send_GD/code/kit/AWS/traffic_data/hist_aws/NS_transformer_tim_perflow_cpu/experiment_wb_logs/wb_logs_MLPL2/flow_1005.pickle\n",
      "/Users/I562243/Documents/to_send_GD/code/kit/AWS/traffic_data/hist_aws/NS_transformer_tim_perflow_cpu/experiment_wb_logs/wb_logs_MLPL2/flow_1105.pickle\n",
      "/Users/I562243/Documents/to_send_GD/code/kit/AWS/traffic_data/hist_aws/NS_transformer_tim_perflow_cpu/experiment_wb_logs/wb_logs_MLPL2/flow_2.pickle\n",
      "/Users/I562243/Documents/to_send_GD/code/kit/AWS/traffic_data/hist_aws/NS_transformer_tim_perflow_cpu/experiment_wb_logs/wb_logs_MLPL2/flow_1078.pickle\n",
      "/Users/I562243/Documents/to_send_GD/code/kit/AWS/traffic_data/hist_aws/NS_transformer_tim_perflow_cpu/experiment_wb_logs/wb_logs_MLPL2/flow_597.pickle\n",
      "/Users/I562243/Documents/to_send_GD/code/kit/AWS/traffic_data/hist_aws/NS_transformer_tim_perflow_cpu/experiment_wb_logs/wb_logs_MLPL2/flow_497.pickle\n",
      "/Users/I562243/Documents/to_send_GD/code/kit/AWS/traffic_data/hist_aws/NS_transformer_tim_perflow_cpu/experiment_wb_logs/wb_logs_MLPL2/flow_935.pickle\n",
      "/Users/I562243/Documents/to_send_GD/code/kit/AWS/traffic_data/hist_aws/NS_transformer_tim_perflow_cpu/experiment_wb_logs/wb_logs_MLPL2/flow_124.pickle\n",
      "/Users/I562243/Documents/to_send_GD/code/kit/AWS/traffic_data/hist_aws/NS_transformer_tim_perflow_cpu/experiment_wb_logs/wb_logs_MLPL2/flow_960.pickle\n",
      "/Users/I562243/Documents/to_send_GD/code/kit/AWS/traffic_data/hist_aws/NS_transformer_tim_perflow_cpu/experiment_wb_logs/wb_logs_MLPL2/flow_903.pickle\n",
      "/Users/I562243/Documents/to_send_GD/code/kit/AWS/traffic_data/hist_aws/NS_transformer_tim_perflow_cpu/experiment_wb_logs/wb_logs_MLPL2/flow_616.pickle\n",
      "/Users/I562243/Documents/to_send_GD/code/kit/AWS/traffic_data/hist_aws/NS_transformer_tim_perflow_cpu/experiment_wb_logs/wb_logs_MLPL2/flow_381.pickle\n",
      "/Users/I562243/Documents/to_send_GD/code/kit/AWS/traffic_data/hist_aws/NS_transformer_tim_perflow_cpu/experiment_wb_logs/wb_logs_MLPL2/flow_667.pickle\n",
      "/Users/I562243/Documents/to_send_GD/code/kit/AWS/traffic_data/hist_aws/NS_transformer_tim_perflow_cpu/experiment_wb_logs/wb_logs_MLPL2/flow_872.pickle\n",
      "/Users/I562243/Documents/to_send_GD/code/kit/AWS/traffic_data/hist_aws/NS_transformer_tim_perflow_cpu/experiment_wb_logs/wb_logs_MLPL2/flow_972.pickle\n",
      "/Users/I562243/Documents/to_send_GD/code/kit/AWS/traffic_data/hist_aws/NS_transformer_tim_perflow_cpu/experiment_wb_logs/wb_logs_MLPL2/flow_811.pickle\n",
      "/Users/I562243/Documents/to_send_GD/code/kit/AWS/traffic_data/hist_aws/NS_transformer_tim_perflow_cpu/experiment_wb_logs/wb_logs_MLPL2/flow_12.pickle\n",
      "/Users/I562243/Documents/to_send_GD/code/kit/AWS/traffic_data/hist_aws/NS_transformer_tim_perflow_cpu/experiment_wb_logs/wb_logs_MLPL2/flow_0.pickle\n",
      "/Users/I562243/Documents/to_send_GD/code/kit/AWS/traffic_data/hist_aws/NS_transformer_tim_perflow_cpu/experiment_wb_logs/wb_logs_MLPL2/flow_1007.pickle\n",
      "/Users/I562243/Documents/to_send_GD/code/kit/AWS/traffic_data/hist_aws/NS_transformer_tim_perflow_cpu/experiment_wb_logs/wb_logs_MLPL2/flow_622.pickle\n",
      "/Users/I562243/Documents/to_send_GD/code/kit/AWS/traffic_data/hist_aws/NS_transformer_tim_perflow_cpu/experiment_wb_logs/wb_logs_MLPL2/flow_495.pickle\n",
      "/Users/I562243/Documents/to_send_GD/code/kit/AWS/traffic_data/hist_aws/NS_transformer_tim_perflow_cpu/experiment_wb_logs/wb_logs_MLPL2/flow_1019.pickle\n",
      "/Users/I562243/Documents/to_send_GD/code/kit/AWS/traffic_data/hist_aws/NS_transformer_tim_perflow_cpu/experiment_wb_logs/wb_logs_MLPL2/flow_641.pickle\n",
      "/Users/I562243/Documents/to_send_GD/code/kit/AWS/traffic_data/hist_aws/NS_transformer_tim_perflow_cpu/experiment_wb_logs/wb_logs_MLPL2/flow_858.pickle\n",
      "/Users/I562243/Documents/to_send_GD/code/kit/AWS/traffic_data/hist_aws/NS_transformer_tim_perflow_cpu/experiment_wb_logs/wb_logs_MLPL2/flow_825.pickle\n",
      "/Users/I562243/Documents/to_send_GD/code/kit/AWS/traffic_data/hist_aws/NS_transformer_tim_perflow_cpu/experiment_wb_logs/wb_logs_MLPL2/flow_587.pickle\n",
      "/Users/I562243/Documents/to_send_GD/code/kit/AWS/traffic_data/hist_aws/NS_transformer_tim_perflow_cpu/experiment_wb_logs/wb_logs_MLPL2/flow_653.pickle\n",
      "/Users/I562243/Documents/to_send_GD/code/kit/AWS/traffic_data/hist_aws/NS_transformer_tim_perflow_cpu/experiment_wb_logs/wb_logs_MLPL2/flow_846.pickle\n",
      "/Users/I562243/Documents/to_send_GD/code/kit/AWS/traffic_data/hist_aws/NS_transformer_tim_perflow_cpu/experiment_wb_logs/wb_logs_MLPL2/flow_946.pickle\n",
      "/Users/I562243/Documents/to_send_GD/code/kit/AWS/traffic_data/hist_aws/NS_transformer_tim_perflow_cpu/experiment_wb_logs/wb_logs_MLPL2/flow_1076.pickle\n",
      "/Users/I562243/Documents/to_send_GD/code/kit/AWS/traffic_data/hist_aws/NS_transformer_tim_perflow_cpu/experiment_wb_logs/wb_logs_MLPL2/flow_1023.pickle\n",
      "/Users/I562243/Documents/to_send_GD/code/kit/AWS/traffic_data/hist_aws/NS_transformer_tim_perflow_cpu/experiment_wb_logs/wb_logs_MLPL2/flow_765.pickle\n",
      "/Users/I562243/Documents/to_send_GD/code/kit/AWS/traffic_data/hist_aws/NS_transformer_tim_perflow_cpu/experiment_wb_logs/wb_logs_MLPL2/flow_769.pickle\n",
      "/Users/I562243/Documents/to_send_GD/code/kit/AWS/traffic_data/hist_aws/NS_transformer_tim_perflow_cpu/experiment_wb_logs/wb_logs_MLPL2/flow_714.pickle\n",
      "/Users/I562243/Documents/to_send_GD/code/kit/AWS/traffic_data/hist_aws/NS_transformer_tim_perflow_cpu/experiment_wb_logs/wb_logs_MLPL2/flow_391.pickle\n",
      "/Users/I562243/Documents/to_send_GD/code/kit/AWS/traffic_data/hist_aws/NS_transformer_tim_perflow_cpu/experiment_wb_logs/wb_logs_MLPL2/flow_1085.pickle\n",
      "/Users/I562243/Documents/to_send_GD/code/kit/AWS/traffic_data/hist_aws/NS_transformer_tim_perflow_cpu/experiment_wb_logs/wb_logs_MLPL2/flow_346.pickle\n",
      "/Users/I562243/Documents/to_send_GD/code/kit/AWS/traffic_data/hist_aws/NS_transformer_tim_perflow_cpu/experiment_wb_logs/wb_logs_MLPL2/flow_417.pickle\n",
      "/Users/I562243/Documents/to_send_GD/code/kit/AWS/traffic_data/hist_aws/NS_transformer_tim_perflow_cpu/experiment_wb_logs/wb_logs_MLPL2/flow_574.pickle\n",
      "/Users/I562243/Documents/to_send_GD/code/kit/AWS/traffic_data/hist_aws/NS_transformer_tim_perflow_cpu/experiment_wb_logs/wb_logs_MLPL2/flow_325.pickle\n",
      "/Users/I562243/Documents/to_send_GD/code/kit/AWS/traffic_data/hist_aws/NS_transformer_tim_perflow_cpu/experiment_wb_logs/wb_logs_MLPL2/flow_474.pickle\n",
      "/Users/I562243/Documents/to_send_GD/code/kit/AWS/traffic_data/hist_aws/NS_transformer_tim_perflow_cpu/experiment_wb_logs/wb_logs_MLPL2/flow_578.pickle\n",
      "/Users/I562243/Documents/to_send_GD/code/kit/AWS/traffic_data/hist_aws/NS_transformer_tim_perflow_cpu/experiment_wb_logs/wb_logs_MLPL2/flow_237.pickle\n",
      "/Users/I562243/Documents/to_send_GD/code/kit/AWS/traffic_data/hist_aws/NS_transformer_tim_perflow_cpu/experiment_wb_logs/wb_logs_MLPL2/flow_92.pickle\n",
      "/Users/I562243/Documents/to_send_GD/code/kit/AWS/traffic_data/hist_aws/NS_transformer_tim_perflow_cpu/experiment_wb_logs/wb_logs_MLPL2/flow_521.pickle\n",
      "/Users/I562243/Documents/to_send_GD/code/kit/AWS/traffic_data/hist_aws/NS_transformer_tim_perflow_cpu/experiment_wb_logs/wb_logs_MLPL2/flow_232.pickle\n",
      "/Users/I562243/Documents/to_send_GD/code/kit/AWS/traffic_data/hist_aws/NS_transformer_tim_perflow_cpu/experiment_wb_logs/wb_logs_MLPL2/flow_563.pickle\n",
      "/Users/I562243/Documents/to_send_GD/code/kit/AWS/traffic_data/hist_aws/NS_transformer_tim_perflow_cpu/experiment_wb_logs/wb_logs_MLPL2/flow_332.pickle\n",
      "/Users/I562243/Documents/to_send_GD/code/kit/AWS/traffic_data/hist_aws/NS_transformer_tim_perflow_cpu/experiment_wb_logs/wb_logs_MLPL2/flow_463.pickle\n",
      "/Users/I562243/Documents/to_send_GD/code/kit/AWS/traffic_data/hist_aws/NS_transformer_tim_perflow_cpu/experiment_wb_logs/wb_logs_MLPL2/flow_197.pickle\n",
      "/Users/I562243/Documents/to_send_GD/code/kit/AWS/traffic_data/hist_aws/NS_transformer_tim_perflow_cpu/experiment_wb_logs/wb_logs_MLPL2/flow_220.pickle\n",
      "/Users/I562243/Documents/to_send_GD/code/kit/AWS/traffic_data/hist_aws/NS_transformer_tim_perflow_cpu/experiment_wb_logs/wb_logs_MLPL2/flow_412.pickle\n",
      "/Users/I562243/Documents/to_send_GD/code/kit/AWS/traffic_data/hist_aws/NS_transformer_tim_perflow_cpu/experiment_wb_logs/wb_logs_MLPL2/flow_343.pickle\n",
      "/Users/I562243/Documents/to_send_GD/code/kit/AWS/traffic_data/hist_aws/NS_transformer_tim_perflow_cpu/experiment_wb_logs/wb_logs_MLPL2/flow_243.pickle\n",
      "/Users/I562243/Documents/to_send_GD/code/kit/AWS/traffic_data/hist_aws/NS_transformer_tim_perflow_cpu/experiment_wb_logs/wb_logs_MLPL2/flow_216.pickle\n",
      "/Users/I562243/Documents/to_send_GD/code/kit/AWS/traffic_data/hist_aws/NS_transformer_tim_perflow_cpu/experiment_wb_logs/wb_logs_MLPL2/flow_559.pickle\n",
      "/Users/I562243/Documents/to_send_GD/code/kit/AWS/traffic_data/hist_aws/NS_transformer_tim_perflow_cpu/experiment_wb_logs/wb_logs_MLPL2/flow_693.pickle\n",
      "/Users/I562243/Documents/to_send_GD/code/kit/AWS/traffic_data/hist_aws/NS_transformer_tim_perflow_cpu/experiment_wb_logs/wb_logs_MLPL2/flow_275.pickle\n",
      "/Users/I562243/Documents/to_send_GD/code/kit/AWS/traffic_data/hist_aws/NS_transformer_tim_perflow_cpu/experiment_wb_logs/wb_logs_MLPL2/flow_536.pickle\n",
      "/Users/I562243/Documents/to_send_GD/code/kit/AWS/traffic_data/hist_aws/NS_transformer_tim_perflow_cpu/experiment_wb_logs/wb_logs_MLPL2/flow_367.pickle\n",
      "/Users/I562243/Documents/to_send_GD/code/kit/AWS/traffic_data/hist_aws/NS_transformer_tim_perflow_cpu/experiment_wb_logs/wb_logs_MLPL2/flow_681.pickle\n",
      "/Users/I562243/Documents/to_send_GD/code/kit/AWS/traffic_data/hist_aws/NS_transformer_tim_perflow_cpu/experiment_wb_logs/wb_logs_MLPL2/flow_994.pickle\n",
      "/Users/I562243/Documents/to_send_GD/code/kit/AWS/traffic_data/hist_aws/NS_transformer_tim_perflow_cpu/experiment_wb_logs/wb_logs_MLPL2/flow_1110.pickle\n",
      "/Users/I562243/Documents/to_send_GD/code/kit/AWS/traffic_data/hist_aws/NS_transformer_tim_perflow_cpu/experiment_wb_logs/wb_logs_MLPL2/flow_648.pickle\n",
      "/Users/I562243/Documents/to_send_GD/code/kit/AWS/traffic_data/hist_aws/NS_transformer_tim_perflow_cpu/experiment_wb_logs/wb_logs_MLPL2/flow_920.pickle\n",
      "/Users/I562243/Documents/to_send_GD/code/kit/AWS/traffic_data/hist_aws/NS_transformer_tim_perflow_cpu/experiment_wb_logs/wb_logs_MLPL2/flow_164.pickle\n",
      "/Users/I562243/Documents/to_send_GD/code/kit/AWS/traffic_data/hist_aws/NS_transformer_tim_perflow_cpu/experiment_wb_logs/wb_logs_MLPL2/flow_851.pickle\n",
      "/Users/I562243/Documents/to_send_GD/code/kit/AWS/traffic_data/hist_aws/NS_transformer_tim_perflow_cpu/experiment_wb_logs/wb_logs_MLPL2/flow_832.pickle\n",
      "/Users/I562243/Documents/to_send_GD/code/kit/AWS/traffic_data/hist_aws/NS_transformer_tim_perflow_cpu/experiment_wb_logs/wb_logs_MLPL2/flow_727.pickle\n",
      "/Users/I562243/Documents/to_send_GD/code/kit/AWS/traffic_data/hist_aws/NS_transformer_tim_perflow_cpu/experiment_wb_logs/wb_logs_MLPL2/flow_590.pickle\n",
      "/Users/I562243/Documents/to_send_GD/code/kit/AWS/traffic_data/hist_aws/NS_transformer_tim_perflow_cpu/experiment_wb_logs/wb_logs_MLPL2/flow_967.pickle\n",
      "/Users/I562243/Documents/to_send_GD/code/kit/AWS/traffic_data/hist_aws/NS_transformer_tim_perflow_cpu/experiment_wb_logs/wb_logs_MLPL2/flow_123.pickle\n",
      "/Users/I562243/Documents/to_send_GD/code/kit/AWS/traffic_data/hist_aws/NS_transformer_tim_perflow_cpu/experiment_wb_logs/wb_logs_MLPL2/flow_19.pickle\n",
      "/Users/I562243/Documents/to_send_GD/code/kit/AWS/traffic_data/hist_aws/NS_transformer_tim_perflow_cpu/experiment_wb_logs/wb_logs_MLPL2/flow_1134.pickle\n",
      "/Users/I562243/Documents/to_send_GD/code/kit/AWS/traffic_data/hist_aws/NS_transformer_tim_perflow_cpu/experiment_wb_logs/wb_logs_MLPL2/flow_711.pickle\n",
      "/Users/I562243/Documents/to_send_GD/code/kit/AWS/traffic_data/hist_aws/NS_transformer_tim_perflow_cpu/experiment_wb_logs/wb_logs_MLPL2/flow_760.pickle\n",
      "/Users/I562243/Documents/to_send_GD/code/kit/AWS/traffic_data/hist_aws/NS_transformer_tim_perflow_cpu/experiment_wb_logs/wb_logs_MLPL2/flow_33.pickle\n",
      "/Users/I562243/Documents/to_send_GD/code/kit/AWS/traffic_data/hist_aws/NS_transformer_tim_perflow_cpu/experiment_wb_logs/wb_logs_MLPL2/flow_1063.pickle\n",
      "/Users/I562243/Documents/to_send_GD/code/kit/AWS/traffic_data/hist_aws/NS_transformer_tim_perflow_cpu/experiment_wb_logs/wb_logs_MLPL2/flow_1012.pickle\n",
      "/Users/I562243/Documents/to_send_GD/code/kit/AWS/traffic_data/hist_aws/NS_transformer_tim_perflow_cpu/experiment_wb_logs/wb_logs_MLPL2/flow_1071.pickle\n",
      "/Users/I562243/Documents/to_send_GD/code/kit/AWS/traffic_data/hist_aws/NS_transformer_tim_perflow_cpu/experiment_wb_logs/wb_logs_MLPL2/flow_178.pickle\n",
      "/Users/I562243/Documents/to_send_GD/code/kit/AWS/traffic_data/hist_aws/NS_transformer_tim_perflow_cpu/experiment_wb_logs/wb_logs_MLPL2/flow_869.pickle\n",
      "/Users/I562243/Documents/to_send_GD/code/kit/AWS/traffic_data/hist_aws/NS_transformer_tim_perflow_cpu/experiment_wb_logs/wb_logs_MLPL2/flow_1124.pickle\n",
      "/Users/I562243/Documents/to_send_GD/code/kit/AWS/traffic_data/hist_aws/NS_transformer_tim_perflow_cpu/experiment_wb_logs/wb_logs_MLPL2/flow_914.pickle\n",
      "/Users/I562243/Documents/to_send_GD/code/kit/AWS/traffic_data/hist_aws/NS_transformer_tim_perflow_cpu/experiment_wb_logs/wb_logs_MLPL2/flow_17.pickle\n",
      "/Users/I562243/Documents/to_send_GD/code/kit/AWS/traffic_data/hist_aws/NS_transformer_tim_perflow_cpu/experiment_wb_logs/wb_logs_MLPL2/flow_977.pickle\n",
      "/Users/I562243/Documents/to_send_GD/code/kit/AWS/traffic_data/hist_aws/NS_transformer_tim_perflow_cpu/experiment_wb_logs/wb_logs_MLPL2/flow_906.pickle\n",
      "/Users/I562243/Documents/to_send_GD/code/kit/AWS/traffic_data/hist_aws/NS_transformer_tim_perflow_cpu/experiment_wb_logs/wb_logs_MLPL2/flow_713.pickle\n",
      "/Users/I562243/Documents/to_send_GD/code/kit/AWS/traffic_data/hist_aws/NS_transformer_tim_perflow_cpu/experiment_wb_logs/wb_logs_MLPL2/flow_1128.pickle\n",
      "/Users/I562243/Documents/to_send_GD/code/kit/AWS/traffic_data/hist_aws/NS_transformer_tim_perflow_cpu/experiment_wb_logs/wb_logs_MLPL2/flow_66.pickle\n",
      "/Users/I562243/Documents/to_send_GD/code/kit/AWS/traffic_data/hist_aws/NS_transformer_tim_perflow_cpu/experiment_wb_logs/wb_logs_MLPL2/flow_296.pickle\n",
      "/Users/I562243/Documents/to_send_GD/code/kit/AWS/traffic_data/hist_aws/NS_transformer_tim_perflow_cpu/experiment_wb_logs/wb_logs_MLPL2/flow_510.pickle\n",
      "/Users/I562243/Documents/to_send_GD/code/kit/AWS/traffic_data/hist_aws/NS_transformer_tim_perflow_cpu/experiment_wb_logs/wb_logs_MLPL2/flow_573.pickle\n",
      "/Users/I562243/Documents/to_send_GD/code/kit/AWS/traffic_data/hist_aws/NS_transformer_tim_perflow_cpu/experiment_wb_logs/wb_logs_MLPL2/flow_353.pickle\n",
      "/Users/I562243/Documents/to_send_GD/code/kit/AWS/traffic_data/hist_aws/NS_transformer_tim_perflow_cpu/experiment_wb_logs/wb_logs_MLPL2/flow_187.pickle\n",
      "/Users/I562243/Documents/to_send_GD/code/kit/AWS/traffic_data/hist_aws/NS_transformer_tim_perflow_cpu/experiment_wb_logs/wb_logs_MLPL2/flow_449.pickle\n",
      "/Users/I562243/Documents/to_send_GD/code/kit/AWS/traffic_data/hist_aws/NS_transformer_tim_perflow_cpu/experiment_wb_logs/wb_logs_MLPL2/flow_318.pickle\n",
      "/Users/I562243/Documents/to_send_GD/code/kit/AWS/traffic_data/hist_aws/NS_transformer_tim_perflow_cpu/experiment_wb_logs/wb_logs_MLPL2/flow_783.pickle\n",
      "/Users/I562243/Documents/to_send_GD/code/kit/AWS/traffic_data/hist_aws/NS_transformer_tim_perflow_cpu/experiment_wb_logs/wb_logs_MLPL2/flow_434.pickle\n",
      "/Users/I562243/Documents/to_send_GD/code/kit/AWS/traffic_data/hist_aws/NS_transformer_tim_perflow_cpu/experiment_wb_logs/wb_logs_MLPL2/flow_457.pickle\n",
      "/Users/I562243/Documents/to_send_GD/code/kit/AWS/traffic_data/hist_aws/NS_transformer_tim_perflow_cpu/experiment_wb_logs/wb_logs_MLPL2/flow_902.pickle\n",
      "/Users/I562243/Documents/to_send_GD/code/kit/AWS/traffic_data/hist_aws/NS_transformer_tim_perflow_cpu/experiment_wb_logs/wb_logs_MLPL2/flow_158.pickle\n",
      "/Users/I562243/Documents/to_send_GD/code/kit/AWS/traffic_data/hist_aws/NS_transformer_tim_perflow_cpu/experiment_wb_logs/wb_logs_MLPL2/flow_1051.pickle\n",
      "/Users/I562243/Documents/to_send_GD/code/kit/AWS/traffic_data/hist_aws/NS_transformer_tim_perflow_cpu/experiment_wb_logs/wb_logs_MLPL2/flow_62.pickle\n",
      "/Users/I562243/Documents/to_send_GD/code/kit/AWS/traffic_data/hist_aws/NS_transformer_tim_perflow_cpu/experiment_wb_logs/wb_logs_MLPL2/flow_778.pickle\n",
      "/Users/I562243/Documents/to_send_GD/code/kit/AWS/traffic_data/hist_aws/NS_transformer_tim_perflow_cpu/experiment_wb_logs/wb_logs_MLPL2/flow_280.pickle\n",
      "/Users/I562243/Documents/to_send_GD/code/kit/AWS/traffic_data/hist_aws/NS_transformer_tim_perflow_cpu/experiment_wb_logs/wb_logs_MLPL2/flow_766.pickle\n",
      "/Users/I562243/Documents/to_send_GD/code/kit/AWS/traffic_data/hist_aws/NS_transformer_tim_perflow_cpu/experiment_wb_logs/wb_logs_MLPL2/flow_380.pickle\n",
      "/Users/I562243/Documents/to_send_GD/code/kit/AWS/traffic_data/hist_aws/NS_transformer_tim_perflow_cpu/experiment_wb_logs/wb_logs_MLPL2/flow_666.pickle\n",
      "/Users/I562243/Documents/to_send_GD/code/kit/AWS/traffic_data/hist_aws/NS_transformer_tim_perflow_cpu/experiment_wb_logs/wb_logs_MLPL2/flow_973.pickle\n",
      "/Users/I562243/Documents/to_send_GD/code/kit/AWS/traffic_data/hist_aws/NS_transformer_tim_perflow_cpu/experiment_wb_logs/wb_logs_MLPL2/flow_733.pickle\n",
      "/Users/I562243/Documents/to_send_GD/code/kit/AWS/traffic_data/hist_aws/NS_transformer_tim_perflow_cpu/experiment_wb_logs/wb_logs_MLPL2/flow_826.pickle\n",
      "/Users/I562243/Documents/to_send_GD/code/kit/AWS/traffic_data/hist_aws/NS_transformer_tim_perflow_cpu/experiment_wb_logs/wb_logs_MLPL2/flow_838.pickle\n",
      "/Users/I562243/Documents/to_send_GD/code/kit/AWS/traffic_data/hist_aws/NS_transformer_tim_perflow_cpu/experiment_wb_logs/wb_logs_MLPL2/flow_101.pickle\n",
      "/Users/I562243/Documents/to_send_GD/code/kit/AWS/traffic_data/hist_aws/NS_transformer_tim_perflow_cpu/experiment_wb_logs/wb_logs_MLPL2/flow_650.pickle\n",
      "/Users/I562243/Documents/to_send_GD/code/kit/AWS/traffic_data/hist_aws/NS_transformer_tim_perflow_cpu/experiment_wb_logs/wb_logs_MLPL2/flow_37.pickle\n",
      "/Users/I562243/Documents/to_send_GD/code/kit/AWS/traffic_data/hist_aws/NS_transformer_tim_perflow_cpu/experiment_wb_logs/wb_logs_MLPL2/flow_721.pickle\n",
      "/Users/I562243/Documents/to_send_GD/code/kit/AWS/traffic_data/hist_aws/NS_transformer_tim_perflow_cpu/experiment_wb_logs/wb_logs_MLPL2/flow_934.pickle\n",
      "/Users/I562243/Documents/to_send_GD/code/kit/AWS/traffic_data/hist_aws/NS_transformer_tim_perflow_cpu/experiment_wb_logs/wb_logs_MLPL2/flow_3.pickle\n",
      "/Users/I562243/Documents/to_send_GD/code/kit/AWS/traffic_data/hist_aws/NS_transformer_tim_perflow_cpu/experiment_wb_logs/wb_logs_MLPL2/flow_54.pickle\n",
      "/Users/I562243/Documents/to_send_GD/code/kit/AWS/traffic_data/hist_aws/NS_transformer_tim_perflow_cpu/experiment_wb_logs/wb_logs_MLPL2/flow_642.pickle\n",
      "/Users/I562243/Documents/to_send_GD/code/kit/AWS/traffic_data/hist_aws/NS_transformer_tim_perflow_cpu/experiment_wb_logs/wb_logs_MLPL2/flow_880.pickle\n",
      "/Users/I562243/Documents/to_send_GD/code/kit/AWS/traffic_data/hist_aws/NS_transformer_tim_perflow_cpu/experiment_wb_logs/wb_logs_MLPL2/flow_441.pickle\n",
      "/Users/I562243/Documents/to_send_GD/code/kit/AWS/traffic_data/hist_aws/NS_transformer_tim_perflow_cpu/experiment_wb_logs/wb_logs_MLPL2/flow_541.pickle\n",
      "/Users/I562243/Documents/to_send_GD/code/kit/AWS/traffic_data/hist_aws/NS_transformer_tim_perflow_cpu/experiment_wb_logs/wb_logs_MLPL2/flow_787.pickle\n",
      "/Users/I562243/Documents/to_send_GD/code/kit/AWS/traffic_data/hist_aws/NS_transformer_tim_perflow_cpu/experiment_wb_logs/wb_logs_MLPL2/flow_553.pickle\n",
      "/Users/I562243/Documents/to_send_GD/code/kit/AWS/traffic_data/hist_aws/NS_transformer_tim_perflow_cpu/experiment_wb_logs/wb_logs_MLPL2/flow_302.pickle\n",
      "/Users/I562243/Documents/to_send_GD/code/kit/AWS/traffic_data/hist_aws/NS_transformer_tim_perflow_cpu/experiment_wb_logs/wb_logs_MLPL2/flow_406.pickle\n",
      "/Users/I562243/Documents/to_send_GD/code/kit/AWS/traffic_data/hist_aws/NS_transformer_tim_perflow_cpu/experiment_wb_logs/wb_logs_MLPL2/flow_249.pickle\n",
      "/Users/I562243/Documents/to_send_GD/code/kit/AWS/traffic_data/hist_aws/NS_transformer_tim_perflow_cpu/experiment_wb_logs/wb_logs_MLPL2/flow_338.pickle\n",
      "/Users/I562243/Documents/to_send_GD/code/kit/AWS/traffic_data/hist_aws/NS_transformer_tim_perflow_cpu/experiment_wb_logs/wb_logs_MLPL2/flow_477.pickle\n",
      "/Users/I562243/Documents/to_send_GD/code/kit/AWS/traffic_data/hist_aws/NS_transformer_tim_perflow_cpu/experiment_wb_logs/wb_logs_MLPL2/flow_532.pickle\n",
      "/Users/I562243/Documents/to_send_GD/code/kit/AWS/traffic_data/hist_aws/NS_transformer_tim_perflow_cpu/experiment_wb_logs/wb_logs_MLPL2/flow_363.pickle\n",
      "/Users/I562243/Documents/to_send_GD/code/kit/AWS/traffic_data/hist_aws/NS_transformer_tim_perflow_cpu/experiment_wb_logs/wb_logs_MLPL2/flow_443.pickle\n",
      "/Users/I562243/Documents/to_send_GD/code/kit/AWS/traffic_data/hist_aws/NS_transformer_tim_perflow_cpu/experiment_wb_logs/wb_logs_MLPL2/flow_420.pickle\n",
      "/Users/I562243/Documents/to_send_GD/code/kit/AWS/traffic_data/hist_aws/NS_transformer_tim_perflow_cpu/experiment_wb_logs/wb_logs_MLPL2/flow_371.pickle\n",
      "/Users/I562243/Documents/to_send_GD/code/kit/AWS/traffic_data/hist_aws/NS_transformer_tim_perflow_cpu/experiment_wb_logs/wb_logs_MLPL2/flow_520.pickle\n",
      "/Users/I562243/Documents/to_send_GD/code/kit/AWS/traffic_data/hist_aws/NS_transformer_tim_perflow_cpu/experiment_wb_logs/wb_logs_MLPL2/flow_982.pickle\n",
      "/Users/I562243/Documents/to_send_GD/code/kit/AWS/traffic_data/hist_aws/NS_transformer_tim_perflow_cpu/experiment_wb_logs/wb_logs_MLPL2/flow_359.pickle\n",
      "/Users/I562243/Documents/to_send_GD/code/kit/AWS/traffic_data/hist_aws/NS_transformer_tim_perflow_cpu/experiment_wb_logs/wb_logs_MLPL2/flow_259.pickle\n",
      "/Users/I562243/Documents/to_send_GD/code/kit/AWS/traffic_data/hist_aws/NS_transformer_tim_perflow_cpu/experiment_wb_logs/wb_logs_MLPL2/flow_224.pickle\n",
      "/Users/I562243/Documents/to_send_GD/code/kit/AWS/traffic_data/hist_aws/NS_transformer_tim_perflow_cpu/experiment_wb_logs/wb_logs_MLPL2/flow_516.pickle\n",
      "/Users/I562243/Documents/to_send_GD/code/kit/AWS/traffic_data/hist_aws/NS_transformer_tim_perflow_cpu/experiment_wb_logs/wb_logs_MLPL2/flow_1088.pickle\n",
      "/Users/I562243/Documents/to_send_GD/code/kit/AWS/traffic_data/hist_aws/NS_transformer_tim_perflow_cpu/experiment_wb_logs/wb_logs_MLPL2/flow_567.pickle\n",
      "/Users/I562243/Documents/to_send_GD/code/kit/AWS/traffic_data/hist_aws/NS_transformer_tim_perflow_cpu/experiment_wb_logs/wb_logs_MLPL2/flow_336.pickle\n",
      "/Users/I562243/Documents/to_send_GD/code/kit/AWS/traffic_data/hist_aws/NS_transformer_tim_perflow_cpu/experiment_wb_logs/wb_logs_MLPL2/flow_255.pickle\n",
      "/Users/I562243/Documents/to_send_GD/code/kit/AWS/traffic_data/hist_aws/NS_transformer_tim_perflow_cpu/experiment_wb_logs/wb_logs_MLPL2/flow_1096.pickle\n",
      "/Users/I562243/Documents/to_send_GD/code/kit/AWS/traffic_data/hist_aws/NS_transformer_tim_perflow_cpu/experiment_wb_logs/wb_logs_MLPL2/flow_607.pickle\n",
      "/Users/I562243/Documents/to_send_GD/code/kit/AWS/traffic_data/hist_aws/NS_transformer_tim_perflow_cpu/experiment_wb_logs/wb_logs_MLPL2/flow_912.pickle\n",
      "/Users/I562243/Documents/to_send_GD/code/kit/AWS/traffic_data/hist_aws/NS_transformer_tim_perflow_cpu/experiment_wb_logs/wb_logs_MLPL2/flow_1053.pickle\n",
      "/Users/I562243/Documents/to_send_GD/code/kit/AWS/traffic_data/hist_aws/NS_transformer_tim_perflow_cpu/experiment_wb_logs/wb_logs_MLPL2/flow_390.pickle\n",
      "/Users/I562243/Documents/to_send_GD/code/kit/AWS/traffic_data/hist_aws/NS_transformer_tim_perflow_cpu/experiment_wb_logs/wb_logs_MLPL2/flow_615.pickle\n",
      "/Users/I562243/Documents/to_send_GD/code/kit/AWS/traffic_data/hist_aws/NS_transformer_tim_perflow_cpu/experiment_wb_logs/wb_logs_MLPL2/flow_800.pickle\n",
      "/Users/I562243/Documents/to_send_GD/code/kit/AWS/traffic_data/hist_aws/NS_transformer_tim_perflow_cpu/experiment_wb_logs/wb_logs_MLPL2/flow_900.pickle\n",
      "/Users/I562243/Documents/to_send_GD/code/kit/AWS/traffic_data/hist_aws/NS_transformer_tim_perflow_cpu/experiment_wb_logs/wb_logs_MLPL2/flow_48.pickle\n",
      "/Users/I562243/Documents/to_send_GD/code/kit/AWS/traffic_data/hist_aws/NS_transformer_tim_perflow_cpu/experiment_wb_logs/wb_logs_MLPL2/flow_103.pickle\n",
      "/Users/I562243/Documents/to_send_GD/code/kit/AWS/traffic_data/hist_aws/NS_transformer_tim_perflow_cpu/experiment_wb_logs/wb_logs_MLPL2/flow_947.pickle\n",
      "/Users/I562243/Documents/to_send_GD/code/kit/AWS/traffic_data/hist_aws/NS_transformer_tim_perflow_cpu/experiment_wb_logs/wb_logs_MLPL2/flow_847.pickle\n",
      "/Users/I562243/Documents/to_send_GD/code/kit/AWS/traffic_data/hist_aws/NS_transformer_tim_perflow_cpu/experiment_wb_logs/wb_logs_MLPL2/flow_924.pickle\n",
      "/Users/I562243/Documents/to_send_GD/code/kit/AWS/traffic_data/hist_aws/NS_transformer_tim_perflow_cpu/experiment_wb_logs/wb_logs_MLPL2/flow_731.pickle\n",
      "/Users/I562243/Documents/to_send_GD/code/kit/AWS/traffic_data/hist_aws/NS_transformer_tim_perflow_cpu/experiment_wb_logs/wb_logs_MLPL2/flow_859.pickle\n",
      "/Users/I562243/Documents/to_send_GD/code/kit/AWS/traffic_data/hist_aws/NS_transformer_tim_perflow_cpu/experiment_wb_logs/wb_logs_MLPL2/flow_1114.pickle\n"
     ]
    }
   ],
   "source": [
    "# Path to the folder containing pickle files\n",
    "folder_path = os.path.join(os.getcwd(),\"wb_logs_MLPL2\")\n",
    "# Iterate through the folder and read pickle files\n",
    "for root, dirs, files in os.walk(folder_path):\n",
    "    for file in files:\n",
    "        if file.endswith(\".pickle\"):\n",
    "            file_path = os.path.join(root, file)\n",
    "            print(file_path)\n",
    "            with open(file_path, 'rb') as f:\n",
    "                # Extract the integer from the filename\n",
    "                num = str(file.split('_')[1].split('.')[0])\n",
    "                key = str(\"flow_\"+str(num))\n",
    "\n",
    "                #print(key)\n",
    "                # Load the dictionary from the pickle file\n",
    "                data = pickle.load(f)\n",
    "                # Update the accumulated dictionary\n",
    "                wb_logs_MLPL2_all_cpu[key] =data[key]\n",
    "                #print(data.keys())\n",
    "\n"
   ],
   "metadata": {
    "collapsed": false
   }
  },
  {
   "cell_type": "code",
   "execution_count": 16,
   "outputs": [
    {
     "name": "stdout",
     "output_type": "stream",
     "text": [
      "239\n",
      "dict_keys(['flow_1048', 'flow_710', 'flow_1035', 'flow_1056', 'flow_966', 'flow_773', 'flow_295', 'flow_122', 'flow_299', 'flow_1027', 'flow_809', 'flow_909', 'flow_974', 'flow_22', 'flow_118', 'flow_933', 'flow_177', 'flow_626', 'flow_1103', 'flow_950', 'flow_525', 'flow_209', 'flow_437', 'flow_780', 'flow_554', 'flow_350', 'flow_413', 'flow_221', 'flow_196', 'flow_321', 'flow_885', 'flow_223', 'flow_240', 'flow_411', 'flow_503', 'flow_198', 'flow_1046', 'flow_285', 'flow_915', 'flow_868', 'flow_919', 'flow_819', 'flow_771', 'flow_671', 'flow_67', 'flow_864', 'flow_143', 'flow_1137', 'flow_952', 'flow_852', 'flow_51', 'flow_493', 'flow_659', 'flow_1101', 'flow_43', 'flow_755', 'flow_20', 'flow_167', 'flow_736', 'flow_564', 'flow_419', 'flow_1099', 'flow_327', 'flow_540', 'flow_431', 'flow_686', 'flow_944', 'flow_100', 'flow_1009', 'flow_1117', 'flow_732', 'flow_827', 'flow_743', 'flow_55', 'flow_1066', 'flow_489', 'flow_28', 'flow_1005', 'flow_1105', 'flow_2', 'flow_1078', 'flow_597', 'flow_497', 'flow_935', 'flow_124', 'flow_960', 'flow_903', 'flow_616', 'flow_381', 'flow_667', 'flow_872', 'flow_972', 'flow_811', 'flow_12', 'flow_0', 'flow_1007', 'flow_622', 'flow_495', 'flow_1019', 'flow_641', 'flow_858', 'flow_825', 'flow_587', 'flow_653', 'flow_846', 'flow_946', 'flow_1076', 'flow_1023', 'flow_765', 'flow_769', 'flow_714', 'flow_391', 'flow_1085', 'flow_346', 'flow_417', 'flow_574', 'flow_325', 'flow_474', 'flow_578', 'flow_237', 'flow_92', 'flow_521', 'flow_232', 'flow_563', 'flow_332', 'flow_463', 'flow_197', 'flow_220', 'flow_412', 'flow_343', 'flow_243', 'flow_216', 'flow_559', 'flow_693', 'flow_275', 'flow_536', 'flow_367', 'flow_681', 'flow_994', 'flow_1110', 'flow_648', 'flow_920', 'flow_164', 'flow_851', 'flow_832', 'flow_727', 'flow_590', 'flow_967', 'flow_123', 'flow_19', 'flow_1134', 'flow_711', 'flow_760', 'flow_33', 'flow_1063', 'flow_1012', 'flow_1071', 'flow_178', 'flow_869', 'flow_1124', 'flow_914', 'flow_17', 'flow_977', 'flow_906', 'flow_713', 'flow_1128', 'flow_66', 'flow_296', 'flow_510', 'flow_573', 'flow_353', 'flow_187', 'flow_449', 'flow_318', 'flow_783', 'flow_434', 'flow_457', 'flow_902', 'flow_158', 'flow_1051', 'flow_62', 'flow_778', 'flow_280', 'flow_766', 'flow_380', 'flow_666', 'flow_973', 'flow_733', 'flow_826', 'flow_838', 'flow_101', 'flow_650', 'flow_37', 'flow_721', 'flow_934', 'flow_3', 'flow_54', 'flow_642', 'flow_880', 'flow_441', 'flow_541', 'flow_787', 'flow_553', 'flow_302', 'flow_406', 'flow_249', 'flow_338', 'flow_477', 'flow_532', 'flow_363', 'flow_443', 'flow_420', 'flow_371', 'flow_520', 'flow_982', 'flow_359', 'flow_259', 'flow_224', 'flow_516', 'flow_1088', 'flow_567', 'flow_336', 'flow_255', 'flow_1096', 'flow_607', 'flow_912', 'flow_1053', 'flow_390', 'flow_615', 'flow_800', 'flow_900', 'flow_48', 'flow_103', 'flow_947', 'flow_847', 'flow_924', 'flow_731', 'flow_859', 'flow_1114'])\n"
     ]
    },
    {
     "data": {
      "text/plain": "dict_keys(['init_chisq_dep_vars_train', 'init_chisq_num_dep_vars_train', 'init_chisq_dep_vars_train_pv', 'init_chisq_dep_vars_test', 'init_chisq_num_dep_vars_test', 'init_chisq_dep_vars_test_pv', 'res_chisq_dep_vars_test_list', 'res_chisq_num_dep_vars_test', 'res_chisq_dep_vars_test_pv', 'res_chisq_dep_vars_train_list', 'res_chisq_num_dep_vars_train', 'res_chisq_dep_vars_train', 'res_SUM_MI_test', 'res_SUM_MI_test_perm', 'res_SUM_MI_test_perm_min', 'res_SUM_MI_test_perm_max', 'res_SUM_MI_test_perm_std', 'res_SUM_MI_test_perm_avg', 'SUM_MI_train_res_perm', 'init_SUM_MI_test', 'init_SUM_MI_train', 'init_SUM_MI_test_perm', 'init_SUM_MI_test_perm_min', 'init_SUM_MI_test_perm_max', 'init_SUM_MI_test_perm_std', 'init_SUM_MI_test_perm_avg', 'init_SUM_MI_train_perm', 'init_MI_pval_train ', 'init_MI_pval_test ', 'res_MI_pval_train ', 'res_MI_pval_test ', 'init_pearson_test', 'res_pearson_test'])"
     },
     "execution_count": 16,
     "metadata": {},
     "output_type": "execute_result"
    }
   ],
   "source": [
    "print(len(wb_logs_MLPL2_all_cpu.keys()))\n",
    "print(wb_logs_MLPL2_all_cpu.keys())\n",
    "wb_logs_MLPL2_all_cpu['flow_0'].keys()"
   ],
   "metadata": {
    "collapsed": false
   }
  },
  {
   "cell_type": "code",
   "execution_count": null,
   "outputs": [],
   "source": [],
   "metadata": {
    "collapsed": false
   }
  },
  {
   "cell_type": "code",
   "execution_count": 17,
   "outputs": [
    {
     "name": "stdout",
     "output_type": "stream",
     "text": [
      "Accumulated data saved to 'wb_logs_MLPL2_all_cpu.pickle'\n"
     ]
    }
   ],
   "source": [
    "# Save the accumulated dictionary as a pickle file\n",
    "output_file = \"wb_logs_MLPL2_all_cpu.pickle\"\n",
    "with open(output_file, 'wb') as f:\n",
    "    pickle.dump(wb_logs_MLPL2_all_cpu, f)\n",
    "\n",
    "print(f\"Accumulated data saved to '{output_file}'\")"
   ],
   "metadata": {
    "collapsed": false
   }
  },
  {
   "cell_type": "code",
   "execution_count": 18,
   "outputs": [],
   "source": [],
   "metadata": {
    "collapsed": false
   }
  },
  {
   "cell_type": "code",
   "execution_count": null,
   "outputs": [],
   "source": [],
   "metadata": {
    "collapsed": false,
    "pycharm": {
     "is_executing": true
    }
   }
  },
  {
   "cell_type": "code",
   "execution_count": 23,
   "outputs": [
    {
     "data": {
      "text/plain": "<Figure size 864x576 with 1 Axes>",
      "image/png": "[encoded data removed]"
     },
     "metadata": {
      "needs_background": "light"
     },
     "output_type": "display_data"
    }
   ],
   "source": [
    "\n"
   ],
   "metadata": {
    "collapsed": false
   }
  },
  {
   "cell_type": "code",
   "execution_count": null,
   "outputs": [],
   "source": [],
   "metadata": {
    "collapsed": false,
    "pycharm": {
     "is_executing": true
    }
   }
  },
  {
   "cell_type": "code",
   "execution_count": 24,
   "outputs": [],
   "source": [
    "# Calculate the differences\n",
    "init_diff_values = [wb_logs_MLPL2_all_cpu[key]['init_SUM_MI_test'] - wb_logs_MLPL2_all_cpu[key]['init_SUM_MI_test_perm_avg']\n",
    "                    for key in wb_logs_MLPL2_all_cpu\n",
    "                    if 'init_SUM_MI_test' in wb_logs_MLPL2_all_cpu[key] and 'init_SUM_MI_test_perm_avg' in wb_logs_MLPL2_all_cpu[key]]\n"
   ],
   "metadata": {
    "collapsed": false
   }
  },
  {
   "cell_type": "code",
   "execution_count": 25,
   "outputs": [],
   "source": [
    "\n",
    "res_diff_values = [wb_logs_MLPL2_all_cpu[key]['res_SUM_MI_test'] - wb_logs_MLPL2_all_cpu[key]['res_SUM_MI_test_perm_avg']\n",
    "                   for key in wb_logs_MLPL2_all_cpu\n",
    "                   if 'res_SUM_MI_test' in wb_logs_MLPL2_all_cpu[key] and 'res_SUM_MI_test_perm_avg' in wb_logs_MLPL2_all_cpu[key]]\n"
   ],
   "metadata": {
    "collapsed": false
   }
  },
  {
   "cell_type": "code",
   "execution_count": 29,
   "outputs": [],
   "source": [
    "# Create dictionaries to store differences\n",
    "init_diff_values = {}\n",
    "res_diff_values = {}\n",
    "\n",
    "# Calculate and store differences for each key\n",
    "for key in wb_logs_MLPL2_all_cpu:\n",
    "    if 'res_SUM_MI_test' in wb_logs_MLPL2_all_cpu[key] and 'res_SUM_MI_test_perm_avg' in wb_logs_MLPL2_all_cpu[key] \\\n",
    "            and 'init_SUM_MI_test' in wb_logs_MLPL2_all_cpu[key] and 'init_SUM_MI_test_perm_avg' in wb_logs_MLPL2_all_cpu[key]:\n",
    "        res_diff_values[key] = wb_logs_MLPL2_all_cpu[key]['res_SUM_MI_test'] - wb_logs_MLPL2_all_cpu[key]['res_SUM_MI_test_perm_avg']\n",
    "        init_diff_values[key] = wb_logs_MLPL2_all_cpu[key]['init_SUM_MI_test'] - wb_logs_MLPL2_all_cpu[key]['init_SUM_MI_test_perm_avg']\n"
   ],
   "metadata": {
    "collapsed": false
   }
  },
  {
   "cell_type": "code",
   "execution_count": 30,
   "outputs": [
    {
     "data": {
      "text/plain": "{'flow_1048': 0.7090698595130405,\n 'flow_710': 0.24898673552681072,\n 'flow_1035': 0.21190423277770432,\n 'flow_1056': 0.3833017465093147,\n 'flow_966': 1.132663600971993,\n 'flow_773': 3.113481662057004,\n 'flow_295': 0.9115892862316106,\n 'flow_122': 0.8502442952330105,\n 'flow_299': 0.3351464744232422,\n 'flow_1027': 0.5145657541605877,\n 'flow_809': 1.8725971258543739,\n 'flow_909': 0.5099312933642794,\n 'flow_974': 0.2235086430961566,\n 'flow_22': 0.41111798767655605,\n 'flow_118': 0.2611999177336286,\n 'flow_933': 0.5661502524611346,\n 'flow_177': 0.3825050243249841,\n 'flow_626': 0.07586509768110306,\n 'flow_1103': 0.8468200070297054,\n 'flow_950': 0.9837514868167283,\n 'flow_525': 0.28682103738748843,\n 'flow_209': 0.5888600879277837,\n 'flow_437': 0.19836260650749027,\n 'flow_780': 0.4420682383440271,\n 'flow_554': 5.016701989998134,\n 'flow_350': 8.481609698937241,\n 'flow_413': 1.2754610272223625,\n 'flow_221': 0.4982099965697442,\n 'flow_196': 0.048905923560282005,\n 'flow_321': 0.2117148540105771,\n 'flow_885': 0.15887054323750438,\n 'flow_223': 0.05850397360827175,\n 'flow_240': 0.05642740784629119,\n 'flow_411': 0.04718292207484298,\n 'flow_503': 0.9967132103313561,\n 'flow_198': 0.35245441005485967,\n 'flow_1046': 1.271084738320274,\n 'flow_285': 0.7208033290620177,\n 'flow_915': 0.28761486854438134,\n 'flow_868': 0.2805105959448655,\n 'flow_919': 0.4576584116393003,\n 'flow_819': 0.7580823857211714,\n 'flow_771': 0.45759246855549485,\n 'flow_671': 0.599235285575209,\n 'flow_67': 0.06312378505687377,\n 'flow_864': 0.7768132427011003,\n 'flow_143': 3.3047547994923807,\n 'flow_1137': 0.8254166538576051,\n 'flow_952': 0.34979048890370557,\n 'flow_852': 0.17431084513220596,\n 'flow_51': 0.3364994012837448,\n 'flow_493': 0.6590885130949191,\n 'flow_659': 0.3801470885675351,\n 'flow_1101': 0.35597818225224853,\n 'flow_43': 0.079029567428762,\n 'flow_755': 0.12781155577243686,\n 'flow_20': 0.32584535132406955,\n 'flow_167': 1.477402316135807,\n 'flow_736': 0.17376201588538853,\n 'flow_564': 4.651584500241621,\n 'flow_419': 1.8733373935603546,\n 'flow_1099': 0.21278187211464394,\n 'flow_327': 0.14673542707754095,\n 'flow_540': 0.8931731689306308,\n 'flow_431': 0.5538635599399013,\n 'flow_686': 0.056068114806324676,\n 'flow_944': 1.2892909501593732,\n 'flow_100': 0.02425497629350959,\n 'flow_1009': 0.7024157470053329,\n 'flow_1117': 1.8018224396348494,\n 'flow_732': 0.19501097693104796,\n 'flow_827': 0.29005324558445245,\n 'flow_743': 0.707786731357471,\n 'flow_55': 0.14494346911374478,\n 'flow_1066': 2.0366436042298206,\n 'flow_489': 1.0705192739251177,\n 'flow_28': 0.4518184000444725,\n 'flow_1005': 0.24851525551446008,\n 'flow_1105': 0.31957190012217374,\n 'flow_2': 0.5314218282837544,\n 'flow_1078': 0.17051196236551802,\n 'flow_597': 0.1342624784043691,\n 'flow_497': 0.5355316220335853,\n 'flow_935': 0.469770304462777,\n 'flow_124': 0.8411412167684387,\n 'flow_960': 0.4562464960169801,\n 'flow_903': 0.9580349018756009,\n 'flow_616': 1.5487126173927883,\n 'flow_381': 0.14450376532793419,\n 'flow_667': 3.0816535780359517,\n 'flow_872': 1.6713687873800838,\n 'flow_972': 0.27646918546961907,\n 'flow_811': 0.4026234396033792,\n 'flow_12': 0.04782612813732978,\n 'flow_0': 0.4432062046926952,\n 'flow_1007': 1.966035352859535,\n 'flow_622': 3.3214903900586283,\n 'flow_495': 0.6418225225192513,\n 'flow_1019': 1.3166608693152653,\n 'flow_641': 6.072451196953111,\n 'flow_858': 0.27762271417114714,\n 'flow_825': 1.3762303881026325,\n 'flow_587': 1.1091615490354587,\n 'flow_653': 0.4634050165892605,\n 'flow_846': 1.1496956180681654,\n 'flow_946': 0.6113841456538771,\n 'flow_1076': 0.30059525342536886,\n 'flow_1023': 0.15668985127521884,\n 'flow_765': 1.2992660404642349,\n 'flow_769': 0.47427070515958847,\n 'flow_714': 1.6258042167342577,\n 'flow_391': 0.2836428261638151,\n 'flow_1085': 0.8292994711275827,\n 'flow_346': 2.7759273197062257,\n 'flow_417': -0.011099817512197685,\n 'flow_574': 6.8323904837234215,\n 'flow_325': 0.4605746929758321,\n 'flow_474': 1.0455525398084489,\n 'flow_578': 5.2915751500585415,\n 'flow_237': 2.293821439535977,\n 'flow_92': 2.2103706248483435,\n 'flow_521': 0.2267059905710611,\n 'flow_232': 0.1641343231448238,\n 'flow_563': 11.07762811079214,\n 'flow_332': 0.17440857701675316,\n 'flow_463': 0.32899597557830207,\n 'flow_197': 0.5162054592864491,\n 'flow_220': 3.315296792848468,\n 'flow_412': 2.1832080146838484,\n 'flow_343': 0.4058436186469754,\n 'flow_243': 0.05462911969097117,\n 'flow_216': 0.559306330736915,\n 'flow_559': 3.128687394264007,\n 'flow_693': 0.3436574045131011,\n 'flow_275': 0.09160735630670214,\n 'flow_536': 0.04771892004249567,\n 'flow_367': 1.1260008629954474,\n 'flow_681': 0.02418968128627763,\n 'flow_994': 0.6767091761330069,\n 'flow_1110': 0.4203447103886324,\n 'flow_648': 0.17461641337494038,\n 'flow_920': 0.6762862692423768,\n 'flow_164': 1.3238387297588696,\n 'flow_851': 0.5878670832185569,\n 'flow_832': 0.3868497679429457,\n 'flow_727': 0.6219908423708254,\n 'flow_590': 0.6225088733376385,\n 'flow_967': 0.35745302170890136,\n 'flow_123': 0.27118507727570873,\n 'flow_19': 0.18835392186054412,\n 'flow_1134': 0.7643950180343893,\n 'flow_711': 0.32626824721483727,\n 'flow_760': 0.4320249130708822,\n 'flow_33': 0.7440471853749917,\n 'flow_1063': 1.0419624181065354,\n 'flow_1012': 0.5257051447929448,\n 'flow_1071': 0.1600738866753486,\n 'flow_178': 0.38583022447270365,\n 'flow_869': 1.1855947007082555,\n 'flow_1124': 0.14879744189686495,\n 'flow_914': 0.28067222623822397,\n 'flow_17': 0.6166096140438033,\n 'flow_977': 0.5128094267848418,\n 'flow_906': 0.14984280565311092,\n 'flow_713': 0.8989320279230906,\n 'flow_1128': 0.33337687854105824,\n 'flow_66': 0.01625280857495426,\n 'flow_296': 5.542364968322479,\n 'flow_510': 4.70718778501956,\n 'flow_573': 5.649423682148393,\n 'flow_353': 0.4764250688203855,\n 'flow_187': 0.6415415561244175,\n 'flow_449': 0.28773088156654847,\n 'flow_318': 0.3207276217324262,\n 'flow_783': 0.15222210585864904,\n 'flow_434': 0.33326143373666217,\n 'flow_457': 0.5515691628399595,\n 'flow_902': 0.11537922922003152,\n 'flow_158': 0.35815158060976726,\n 'flow_1051': 1.1297651207322537,\n 'flow_62': 1.0109453770040786,\n 'flow_778': 1.8100926098801837,\n 'flow_280': 1.9923765747154916,\n 'flow_766': 0.4879804875782878,\n 'flow_380': 0.29352070105680195,\n 'flow_666': 1.8444554505665045,\n 'flow_973': 1.4746943508302468,\n 'flow_733': 0.2523223281422906,\n 'flow_826': 0.8444918795012386,\n 'flow_838': 0.25988000127611666,\n 'flow_101': 0.03598451569695271,\n 'flow_650': 0.08913227002430868,\n 'flow_37': 6.260001854695384,\n 'flow_721': 0.28870187319998175,\n 'flow_934': 0.4527429116974222,\n 'flow_3': 0.5973671261888351,\n 'flow_54': 1.0538052242816436,\n 'flow_642': 0.9792643417401669,\n 'flow_880': 0.8797130465380065,\n 'flow_441': 0.10296762573414009,\n 'flow_541': 2.8582035089794897,\n 'flow_787': 2.04771123748384,\n 'flow_553': 11.747865405696281,\n 'flow_302': 0.24674818911864094,\n 'flow_406': 0.16317201220637445,\n 'flow_249': 1.9681644284549304,\n 'flow_338': 0.32285802074630165,\n 'flow_477': 0.7347949986441438,\n 'flow_532': 3.9289649189959386,\n 'flow_363': 0.00625303455721804,\n 'flow_443': 0.16559146776813716,\n 'flow_420': 0.18659752750196357,\n 'flow_371': 0.34361625345146773,\n 'flow_520': 0.4683720251690118,\n 'flow_982': 0.20961531557084878,\n 'flow_359': 1.6292963825162599,\n 'flow_259': 8.763479813424283,\n 'flow_224': 0.1669389125740799,\n 'flow_516': 4.524689305908927,\n 'flow_1088': 4.494156511589664,\n 'flow_567': 7.825412125031572,\n 'flow_336': 0.03244896437349798,\n 'flow_255': 0.4530442779802826,\n 'flow_1096': 0.3536400248561171,\n 'flow_607': 0.8554322374633374,\n 'flow_912': 0.3787526684993887,\n 'flow_1053': 0.24459899643913063,\n 'flow_390': 0.5427299713725047,\n 'flow_615': 0.4393384482245626,\n 'flow_800': 0.4451693428405088,\n 'flow_900': 0.7103827583850939,\n 'flow_48': 0.8803271062888713,\n 'flow_103': 0.6274053872789409,\n 'flow_947': 0.6474711663133514,\n 'flow_847': 2.002488822831363,\n 'flow_924': 0.33014278028630395,\n 'flow_731': 0.4464670924989167,\n 'flow_859': 1.3972906287642557,\n 'flow_1114': 0.2817196272399394}"
     },
     "execution_count": 30,
     "metadata": {},
     "output_type": "execute_result"
    }
   ],
   "source": [],
   "metadata": {
    "collapsed": false
   }
  },
  {
   "cell_type": "code",
   "execution_count": 33,
   "outputs": [
    {
     "data": {
      "text/plain": "<Figure size 864x576 with 1 Axes>",
      "image/png": "[encoded data removed]"
     },
     "metadata": {
      "needs_background": "light"
     },
     "output_type": "display_data"
    }
   ],
   "source": [
    "# Extract values from dictionaries\n",
    "init_diff_values_list = list(init_diff_values.values())\n",
    "res_diff_values_list = list(res_diff_values.values())\n",
    "\n",
    "# Plotting both distributions overlaid\n",
    "plt.figure(figsize=(12, 8))\n",
    "plt.hist(init_diff_values_list, bins=40, color='blue', alpha=0.5, label='init_diff_values')\n",
    "plt.hist(res_diff_values_list, bins=40, color='green', alpha=0.5, label='res_diff_values')\n",
    "plt.title('Distribution of Differences')\n",
    "plt.xlabel('Difference Values')\n",
    "plt.ylabel('Frequency')\n",
    "plt.legend()\n",
    "plt.grid(True)\n",
    "plt.show()"
   ],
   "metadata": {
    "collapsed": false
   }
  },
  {
   "cell_type": "code",
   "execution_count": 27,
   "outputs": [],
   "source": [
    "\n"
   ],
   "metadata": {
    "collapsed": false
   }
  },
  {
   "cell_type": "code",
   "execution_count": 43,
   "outputs": [
    {
     "name": "stdout",
     "output_type": "stream",
     "text": [
      "candiate Keys:\n",
      "['flow_1088', 'flow_143', 'flow_220', 'flow_259', 'flow_296', 'flow_346', 'flow_350', 'flow_37', 'flow_510', 'flow_516', 'flow_532', 'flow_541', 'flow_554', 'flow_559', 'flow_564', 'flow_567', 'flow_573', 'flow_574', 'flow_578', 'flow_622', 'flow_641', 'flow_667', 'flow_773']\n"
     ]
    }
   ],
   "source": [
    "# Find keys based on the given criteria\n",
    "candidate_keys = [key for key in wb_logs_MLPL2_all_cpu\n",
    "                 if 'res_SUM_MI_test' in wb_logs_MLPL2_all_cpu[key]\n",
    "                 and 'res_SUM_MI_test_perm_avg' in wb_logs_MLPL2_all_cpu[key]\n",
    "                 and 'init_SUM_MI_test' in wb_logs_MLPL2_all_cpu[key]\n",
    "                 and 'init_SUM_MI_test_perm_avg' in wb_logs_MLPL2_all_cpu[key]\n",
    "                 and res_diff_values[key] > 2.5\n",
    "                 and res_diff_values[key] < init_diff_values[key]]\n",
    "\n",
    "# Print the selected keys\n",
    "print(\"candiate Keys:\")\n",
    "#\n",
    "candidate_keys = sorted(candidate_keys)\n",
    "# Save selected_keys as candidate_keys.pickle\n",
    "with open('candidate_keys.pickle', 'wb') as f:\n",
    "    pickle.dump(candidate_keys, f)\n",
    "print(candidate_keys)\n",
    "#print(\"Selected keys saved as 'candidate_keys.pickle'\")"
   ],
   "metadata": {
    "collapsed": false
   }
  },
  {
   "cell_type": "code",
   "execution_count": 39,
   "outputs": [
    {
     "data": {
      "text/plain": "['flow_1088',\n 'flow_143',\n 'flow_220',\n 'flow_259',\n 'flow_296',\n 'flow_346',\n 'flow_350',\n 'flow_37',\n 'flow_510',\n 'flow_516',\n 'flow_532',\n 'flow_541',\n 'flow_554',\n 'flow_559',\n 'flow_564',\n 'flow_567',\n 'flow_573',\n 'flow_574',\n 'flow_578',\n 'flow_622',\n 'flow_641',\n 'flow_667',\n 'flow_773']"
     },
     "execution_count": 39,
     "metadata": {},
     "output_type": "execute_result"
    }
   ],
   "source": [],
   "metadata": {
    "collapsed": false
   }
  },
  {
   "cell_type": "code",
   "execution_count": 41,
   "outputs": [
    {
     "data": {
      "text/plain": "<Figure size 576x432 with 1 Axes>",
      "image/png": "[encoded data removed]"
     },
     "metadata": {
      "needs_background": "light"
     },
     "output_type": "display_data"
    }
   ],
   "source": [
    "\n",
    "# Filter values based on selected_keys\n",
    "init_diff_values_selected = [init_diff_values[key] for key in candidate_keys if key in init_diff_values]\n",
    "res_diff_values_selected = [res_diff_values[key] for key in candidate_keys if key in res_diff_values]\n",
    "\n",
    "# Plotting both distributions overlaid for selected keys\n",
    "plt.figure(figsize=(8, 6))\n",
    "plt.hist(init_diff_values_selected, bins=40, color='blue', alpha=0.5, label='init_diff_values (selected keys)')\n",
    "plt.hist(res_diff_values_selected, bins=40, color='green', alpha=0.5, label='res_diff_values (selected keys)')\n",
    "plt.title('Distribution of Differences for Selected Keys')\n",
    "plt.xlabel('Difference Values')\n",
    "plt.ylabel('Frequency')\n",
    "plt.legend()\n",
    "plt.grid(True)\n",
    "plt.show()"
   ],
   "metadata": {
    "collapsed": false
   }
  },
  {
   "cell_type": "code",
   "execution_count": null,
   "outputs": [],
   "source": [],
   "metadata": {
    "collapsed": false,
    "pycharm": {
     "is_executing": true
    }
   }
  },
  {
   "cell_type": "code",
   "execution_count": 42,
   "outputs": [
    {
     "name": "stdout",
     "output_type": "stream",
     "text": [
      "Filtered data saved as 'wb_logs_MLPL2_candidate_cpu.pickle'\n"
     ]
    }
   ],
   "source": [
    "\n",
    "# Filter wb_logs_MLPL2_all_cpu based on selected_keys\n",
    "wb_logs_MLPL2_candidate_cpu = {key: wb_logs_MLPL2_all_cpu[key] for key in candidate_keys if key in wb_logs_MLPL2_all_cpu}\n",
    "\n",
    "# Save wb_logs_MLPL2_candidate_cpu as wb_logs_MLPL2_candidate_cpu.pickle\n",
    "with open('wb_logs_MLPL2_candidate_cpu.pickle', 'wb') as f:\n",
    "    pickle.dump(wb_logs_MLPL2_candidate_cpu, f)\n",
    "\n",
    "print(\"Filtered data saved as 'wb_logs_MLPL2_candidate_cpu.pickle'\")"
   ],
   "metadata": {
    "collapsed": false
   }
  },
  {
   "cell_type": "code",
   "execution_count": 41,
   "outputs": [],
   "source": [],
   "metadata": {
    "collapsed": false
   }
  }
 ],
 "metadata": {
  "kernelspec": {
   "display_name": "Python 3",
   "language": "python",
   "name": "python3"
  },
  "language_info": {
   "codemirror_mode": {
    "name": "ipython",
    "version": 2
   },
   "file_extension": ".py",
   "mimetype": "text/x-python",
   "name": "python",
   "nbconvert_exporter": "python",
   "pygments_lexer": "ipython2",
   "version": "2.7.6"
  }
 },
 "nbformat": 4,
 "nbformat_minor": 0
}
